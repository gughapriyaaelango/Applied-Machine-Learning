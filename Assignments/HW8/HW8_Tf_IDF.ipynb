{
 "cells": [
  {
   "cell_type": "code",
   "execution_count": 96,
   "id": "8540bc01",
   "metadata": {
    "scrolled": true
   },
   "outputs": [],
   "source": [
    "#“I certify that this assignment represents my work. I have not used any unauthorized or unacknowledged assistance \n",
    "#or sources in completing it, including free or commercial systems or services offered on the internet.”"
   ]
  },
  {
   "cell_type": "code",
   "execution_count": 97,
   "id": "cac1aa37",
   "metadata": {},
   "outputs": [],
   "source": [
    "import pandas as pd\n",
    "import matplotlib.pyplot as plt\n",
    "import numpy as np\n",
    "from gensim.models.doc2vec import Doc2Vec, TaggedDocument\n",
    "from sklearn.feature_selection import mutual_info_classif\n",
    "from nltk.corpus import stopwords\n",
    "from nltk.tokenize import RegexpTokenizer, sent_tokenize, word_tokenize\n",
    "from nltk.stem import WordNetLemmatizer\n",
    "from nltk.stem import PorterStemmer\n",
    "from nltk.tokenize import word_tokenize\n",
    "from sklearn.feature_selection import SelectKBest\n",
    "from sklearn.feature_extraction.text import CountVectorizer, TfidfVectorizer\n",
    "from sklearn.model_selection import GridSearchCV, train_test_split\n",
    "from sklearn.metrics import confusion_matrix, precision_score, recall_score, f1_score\n",
    "from sklearn.naive_bayes import MultinomialNB\n",
    "from sklearn.pipeline import Pipeline\n",
    "from sklearn.preprocessing import StandardScaler\n",
    "from sklearn.metrics import accuracy_score\n",
    "from sklearn.metrics import f1_score\n",
    "from sklearn.metrics import roc_auc_score\n",
    "from sklearn.metrics import classification_report, confusion_matrix\n",
    "from sklearn.metrics import roc_curve,roc_auc_score, precision_score, recall_score,f1_score\n",
    "from sklearn.metrics import make_scorer, accuracy_score\n",
    "\n",
    "import multiprocessing\n",
    "import re"
   ]
  },
  {
   "cell_type": "code",
   "execution_count": 98,
   "id": "6350f461",
   "metadata": {},
   "outputs": [
    {
     "data": {
      "text/html": [
       "<div>\n",
       "<style scoped>\n",
       "    .dataframe tbody tr th:only-of-type {\n",
       "        vertical-align: middle;\n",
       "    }\n",
       "\n",
       "    .dataframe tbody tr th {\n",
       "        vertical-align: top;\n",
       "    }\n",
       "\n",
       "    .dataframe thead th {\n",
       "        text-align: right;\n",
       "    }\n",
       "</style>\n",
       "<table border=\"1\" class=\"dataframe\">\n",
       "  <thead>\n",
       "    <tr style=\"text-align: right;\">\n",
       "      <th></th>\n",
       "      <th>lie</th>\n",
       "      <th>sentiment</th>\n",
       "      <th>review</th>\n",
       "    </tr>\n",
       "  </thead>\n",
       "  <tbody>\n",
       "    <tr>\n",
       "      <th>0</th>\n",
       "      <td>fake</td>\n",
       "      <td>negative</td>\n",
       "      <td>'Mike\\'s Pizza High Point, NY Service was very...</td>\n",
       "    </tr>\n",
       "    <tr>\n",
       "      <th>1</th>\n",
       "      <td>fake</td>\n",
       "      <td>negative</td>\n",
       "      <td>'i really like this buffet restaurant in Marsh...</td>\n",
       "    </tr>\n",
       "    <tr>\n",
       "      <th>2</th>\n",
       "      <td>fake</td>\n",
       "      <td>negative</td>\n",
       "      <td>'After I went shopping with some of my friend,...</td>\n",
       "    </tr>\n",
       "    <tr>\n",
       "      <th>3</th>\n",
       "      <td>fake</td>\n",
       "      <td>negative</td>\n",
       "      <td>'Olive Oil Garden was very disappointing. I ex...</td>\n",
       "    </tr>\n",
       "    <tr>\n",
       "      <th>4</th>\n",
       "      <td>fake</td>\n",
       "      <td>negative</td>\n",
       "      <td>'The Seven Heaven restaurant was never known f...</td>\n",
       "    </tr>\n",
       "  </tbody>\n",
       "</table>\n",
       "</div>"
      ],
      "text/plain": [
       "    lie sentiment                                             review\n",
       "0  fake  negative  'Mike\\'s Pizza High Point, NY Service was very...\n",
       "1  fake  negative  'i really like this buffet restaurant in Marsh...\n",
       "2  fake  negative  'After I went shopping with some of my friend,...\n",
       "3  fake  negative  'Olive Oil Garden was very disappointing. I ex...\n",
       "4  fake  negative  'The Seven Heaven restaurant was never known f..."
      ]
     },
     "execution_count": 98,
     "metadata": {},
     "output_type": "execute_result"
    }
   ],
   "source": [
    "import pandas as pd\n",
    "\n",
    "# read data\n",
    "reviews_df = pd.read_csv('deception_data_converted.txt',sep='\\t',encoding='iso-8859-1')\n",
    "reviews_df.head()"
   ]
  },
  {
   "cell_type": "code",
   "execution_count": 99,
   "id": "1c534e51",
   "metadata": {},
   "outputs": [
    {
     "data": {
      "text/plain": [
       "(92, 3)"
      ]
     },
     "execution_count": 99,
     "metadata": {},
     "output_type": "execute_result"
    }
   ],
   "source": [
    "reviews_df.shape"
   ]
  },
  {
   "cell_type": "code",
   "execution_count": 100,
   "id": "01bc767c",
   "metadata": {},
   "outputs": [
    {
     "data": {
      "text/plain": [
       "fake    46\n",
       "true    46\n",
       "Name: lie, dtype: int64"
      ]
     },
     "execution_count": 100,
     "metadata": {},
     "output_type": "execute_result"
    }
   ],
   "source": [
    "reviews_df['lie'].value_counts()"
   ]
  },
  {
   "cell_type": "code",
   "execution_count": 101,
   "id": "69ff9e83",
   "metadata": {},
   "outputs": [
    {
     "data": {
      "text/plain": [
       "negative    46\n",
       "positive    46\n",
       "Name: sentiment, dtype: int64"
      ]
     },
     "execution_count": 101,
     "metadata": {},
     "output_type": "execute_result"
    }
   ],
   "source": [
    "reviews_df['sentiment'].value_counts()"
   ]
  },
  {
   "cell_type": "code",
   "execution_count": 102,
   "id": "4ba3eea0",
   "metadata": {},
   "outputs": [],
   "source": [
    "import arff\n",
    "arff.dump('product_review.arff'\n",
    "       , reviews_df.values\n",
    "       , relation='relation name'\n",
    "       , names=reviews_df.columns)"
   ]
  },
  {
   "cell_type": "code",
   "execution_count": 103,
   "id": "6f20214f",
   "metadata": {},
   "outputs": [],
   "source": [
    "# we don't include stem\n",
    "def text_process(document, rebuild_document=True):\n",
    "    import re\n",
    "    words = []\n",
    "    \n",
    "    for sentence in sent_tokenize(document):\n",
    "        tokens = [wordnet_lemmatizer.lemmatize(t.lower())\n",
    "        for t in regexp_tokenizer.tokenize(sentence) if t.lower() not in stop_words]\n",
    "        words += tokens\n",
    "\n",
    "    if rebuild_document:\n",
    "        #### rebuild the sentence\n",
    "        content = ' '.join(words).strip()\n",
    "\n",
    "        content = content.replace(r\"'\",\" \")\n",
    "        content = re.sub('s\\+', ' ', content)\n",
    "        content = content.strip()\n",
    "        \n",
    "        return content\n",
    "    else:\n",
    "        return words"
   ]
  },
  {
   "cell_type": "code",
   "execution_count": 104,
   "id": "f230ac5d",
   "metadata": {},
   "outputs": [],
   "source": [
    "\n",
    "reviews_categories = {\n",
    "    'true': 0,\n",
    "    'fake': 1}\n",
    "\n",
    "reviews_X = []\n",
    "token_reviews_X = []\n",
    "reviews_Y = []"
   ]
  },
  {
   "cell_type": "code",
   "execution_count": 105,
   "id": "391c61d2",
   "metadata": {},
   "outputs": [],
   "source": [
    "# load stop-words\n",
    "stop_words = set(stopwords.words('english'))\n",
    "\n",
    "# initialize tokenizer\n",
    "regexp_tokenizer = RegexpTokenizer('[\\'a-zA-Z]+')\n",
    "\n",
    "# initialize lemmatizer\n",
    "wordnet_lemmatizer = WordNetLemmatizer()\n",
    "\n",
    "# initialize stemmer\n",
    "porter_stemmer = PorterStemmer()"
   ]
  },
  {
   "cell_type": "code",
   "execution_count": 106,
   "id": "1ee49819",
   "metadata": {},
   "outputs": [],
   "source": [
    "for index, row in reviews_df.iterrows():\n",
    "    category = row.lie\n",
    "    text = row.review\n",
    "\n",
    "    category_idx = reviews_categories[category]\n",
    "\n",
    "    reviews_X.append(text_process(text))\n",
    "    token_reviews_X.append(text_process(text,False))\n",
    "    reviews_Y.append(category_idx)"
   ]
  },
  {
   "cell_type": "code",
   "execution_count": 107,
   "id": "3a590a5b",
   "metadata": {},
   "outputs": [],
   "source": [
    "##LIE DETECTION USING TF-IDF\n",
    "tf_idf_vectorizer = TfidfVectorizer()\n",
    "reviews_X_vec = tf_idf_vectorizer.fit_transform(reviews_X)"
   ]
  },
  {
   "cell_type": "code",
   "execution_count": 108,
   "id": "0577c779",
   "metadata": {},
   "outputs": [],
   "source": [
    "X_train, X_test, Y_train, Y_test = train_test_split(reviews_X_vec.toarray(), reviews_Y, test_size=0.25, random_state=1)\n"
   ]
  },
  {
   "cell_type": "code",
   "execution_count": 109,
   "id": "619bdf7a",
   "metadata": {},
   "outputs": [],
   "source": [
    "#Minmax scaler to scale data to 0 to 1 for naive bayes\n",
    "from sklearn.preprocessing import MinMaxScaler\n",
    "scaler = MinMaxScaler().fit(X_train)\n",
    "X_train_scaled = scaler.transform(X_train)\n",
    "X_test_scaled = scaler.transform(X_test)\n"
   ]
  },
  {
   "cell_type": "code",
   "execution_count": 110,
   "id": "bfb3da44",
   "metadata": {},
   "outputs": [],
   "source": [
    "def entropy(y):\n",
    "    _, counts = np.unique(y, return_counts=True)\n",
    "    probs = counts / len(y)\n",
    "    return -np.sum(probs * np.log2(probs))"
   ]
  },
  {
   "cell_type": "code",
   "execution_count": 111,
   "id": "8185cd06",
   "metadata": {},
   "outputs": [
    {
     "name": "stdout",
     "output_type": "stream",
     "text": [
      "Feature 1264: Gain ratio = nan\n",
      "Feature 423: Gain ratio = nan\n",
      "Feature 416: Gain ratio = nan\n",
      "Feature 417: Gain ratio = nan\n",
      "Feature 418: Gain ratio = nan\n",
      "Feature 419: Gain ratio = nan\n",
      "Feature 420: Gain ratio = nan\n",
      "Feature 421: Gain ratio = nan\n",
      "Feature 422: Gain ratio = nan\n",
      "Feature 424: Gain ratio = nan\n",
      "Feature 414: Gain ratio = nan\n",
      "Feature 425: Gain ratio = nan\n",
      "Feature 426: Gain ratio = nan\n",
      "Feature 427: Gain ratio = nan\n",
      "Feature 428: Gain ratio = nan\n"
     ]
    },
    {
     "name": "stderr",
     "output_type": "stream",
     "text": [
      "/var/folders/t0/mwd450_d17x_24_r5z4fl90m0000gn/T/ipykernel_25851/3696085333.py:7: RuntimeWarning: divide by zero encountered in log2\n",
      "  split_information = -np.sum(X_train_scaled[:,i]/np.sum(X_train_scaled[:,i])*np.log2(X_train_scaled[:,i]/np.sum(X_train_scaled[:,i])))\n",
      "/var/folders/t0/mwd450_d17x_24_r5z4fl90m0000gn/T/ipykernel_25851/3696085333.py:7: RuntimeWarning: invalid value encountered in multiply\n",
      "  split_information = -np.sum(X_train_scaled[:,i]/np.sum(X_train_scaled[:,i])*np.log2(X_train_scaled[:,i]/np.sum(X_train_scaled[:,i])))\n",
      "/var/folders/t0/mwd450_d17x_24_r5z4fl90m0000gn/T/ipykernel_25851/3696085333.py:7: RuntimeWarning: invalid value encountered in divide\n",
      "  split_information = -np.sum(X_train_scaled[:,i]/np.sum(X_train_scaled[:,i])*np.log2(X_train_scaled[:,i]/np.sum(X_train_scaled[:,i])))\n",
      "/var/folders/t0/mwd450_d17x_24_r5z4fl90m0000gn/T/ipykernel_25851/3696085333.py:8: RuntimeWarning: invalid value encountered in double_scalars\n",
      "  gain_ratios.append((mutual_info[i]/feature_entropy)/split_information)\n",
      "/var/folders/t0/mwd450_d17x_24_r5z4fl90m0000gn/T/ipykernel_25851/3696085333.py:8: RuntimeWarning: divide by zero encountered in double_scalars\n",
      "  gain_ratios.append((mutual_info[i]/feature_entropy)/split_information)\n"
     ]
    },
    {
     "data": {
      "image/png": "[encoded data removed]",
      "text/plain": [
       "<Figure size 640x480 with 1 Axes>"
      ]
     },
     "metadata": {},
     "output_type": "display_data"
    }
   ],
   "source": [
    "#General GainRatio\n",
    "mutual_info = mutual_info_classif(X_train_scaled, Y_train)\n",
    "total_entropy = entropy(Y_train)\n",
    "gain_ratios = []\n",
    "for i in range(X_train_scaled.shape[1]):\n",
    "    feature_entropy = entropy(X_train_scaled[:,i])\n",
    "    split_information = -np.sum(X_train_scaled[:,i]/np.sum(X_train_scaled[:,i])*np.log2(X_train_scaled[:,i]/np.sum(X_train_scaled[:,i])))\n",
    "    gain_ratios.append((mutual_info[i]/feature_entropy)/split_information)\n",
    "\n",
    "# print the gain ratios for top 15 features\n",
    "top_features_idx = np.argsort(gain_ratios)[::-1][:15]\n",
    "for idx in top_features_idx:\n",
    "    print(f\"Feature {idx}: Gain ratio = {gain_ratios[idx]}\")\n",
    "\n",
    "plt.bar(range(len(top_features_idx)), top_features_idx)\n",
    "plt.xticks(range(len(top_features_idx)), top_features_idx, rotation=90)\n",
    "plt.title(\"Feature Importance Scores\")\n",
    "plt.xlabel(\"Features\")\n",
    "plt.ylabel(\"Gain Ratio\")\n",
    "plt.show()"
   ]
  },
  {
   "cell_type": "code",
   "execution_count": 112,
   "id": "8f1acee3",
   "metadata": {},
   "outputs": [
    {
     "name": "stdout",
     "output_type": "stream",
     "text": [
      "accuracy: 0.391304347826087\n",
      "F1 score: 0.39015151515151514\n"
     ]
    }
   ],
   "source": [
    "#Vanilla Multinomial\n",
    "model = MultinomialNB()\n",
    "model.fit(X_train_scaled, Y_train)\n",
    "y_pred=model.predict(X_test_scaled)\n",
    "print(\"accuracy:\", accuracy_score(Y_test, y_pred))\n",
    "print(\"F1 score:\", f1_score(Y_test, y_pred,average=\"macro\"))\n"
   ]
  },
  {
   "cell_type": "code",
   "execution_count": 113,
   "id": "efea0db6",
   "metadata": {
    "scrolled": true
   },
   "outputs": [
    {
     "name": "stdout",
     "output_type": "stream",
     "text": [
      "Parameter grid:\n",
      "{'alpha': [0.001, 0.002, 0.003, 0.004, 0.005, 0.01, 0.09, 0.05, 0.75, 0.09, 0.1, 0.2, 0.3, 0.4, 0.5, 0.6, 0.7, 0.8, 0.9, 1.0]}\n",
      "Fitting 10 folds for each of 20 candidates, totalling 200 fits\n",
      "Best model: {'alpha': 0.003}\n",
      "Best score: 0.600000\n",
      "Best test auc: 0.347826\n",
      "accuracy: 0.34782608695652173\n",
      "F1 score: 0.34782608695652173\n",
      "Accuracy: 0.34782608695652173\n"
     ]
    }
   ],
   "source": [
    "#Multinomial NB\n",
    "from sklearn.naive_bayes import MultinomialNB\n",
    "\n",
    "param_grid = {'alpha': [0.001, 0.002,0.003,0.004,0.005,0.01, 0.09,0.05, 0.75, 0.09, 0.1, 0.2, 0.3, 0.4, 0.5, 0.6, 0.7, 0.8, 0.9, 1.0]}\n",
    "print(\"Parameter grid:\\n{}\".format(param_grid))\n",
    "\n",
    "mnb_grid_search = GridSearchCV(MultinomialNB(), param_grid=param_grid, cv=10,scoring=\"roc_auc\",n_jobs=multiprocessing.cpu_count(),verbose=1)\n",
    "mnb_grid_search.fit(X_train_scaled, Y_train)\n",
    "\n",
    "mnb_best = mnb_grid_search.best_estimator_\n",
    "mnb_best.fit(X_train_scaled,Y_train)\n",
    "print('Best model: %s' % str(mnb_grid_search.best_params_))\n",
    "print('Best score: %f' % mnb_grid_search.best_score_)\n",
    "print('Best test auc: %f' % mnb_best.score(X_test_scaled,Y_test))\n",
    "\n",
    "y_pred = mnb_best.predict(X_test_scaled)\n",
    "y_prob = mnb_best.predict_proba(X_test_scaled)\n",
    "print(\"accuracy:\", accuracy_score(Y_test, y_pred))\n",
    "print(\"F1 score:\", f1_score(Y_test, y_pred,average=\"macro\"))\n",
    "precision = precision_score(Y_test, y_pred, average='macro')\n",
    "recall = recall_score(Y_test, y_pred, average='macro')\n",
    "f1 = f1_score(Y_test, y_pred, average='macro')\n",
    "\n",
    "accuracy = accuracy_score(Y_test, y_pred)\n",
    "print('Accuracy:', accuracy)\n"
   ]
  },
  {
   "cell_type": "code",
   "execution_count": 114,
   "id": "7f47ddf3",
   "metadata": {},
   "outputs": [
    {
     "name": "stdout",
     "output_type": "stream",
     "text": [
      "[  54   76  190  260  303  380  444  461  527  605  700  766  875 1034\n",
      " 1153]\n",
      "accuracy: 0.43478260869565216\n",
      "F1 score: 0.35698924731182796\n",
      "Accuracy: 0.43478260869565216\n",
      "              precision    recall  f1-score   support\n",
      "\n",
      "           0       1.00      0.07      0.13        14\n",
      "           1       0.41      1.00      0.58         9\n",
      "\n",
      "    accuracy                           0.43        23\n",
      "   macro avg       0.70      0.54      0.36        23\n",
      "weighted avg       0.77      0.43      0.31        23\n",
      "\n"
     ]
    }
   ],
   "source": [
    "from sklearn.feature_selection import SelectKBest, chi2,f_classif,mutual_info_classif\n",
    "selector = SelectKBest(f_classif, k=15)\n",
    "\n",
    "X_train_new = selector.fit_transform(X_train_scaled,Y_train)\n",
    "X_test_new = selector.transform(X_test)\n",
    "top_features = selector.get_support(indices=True)\n",
    "print(top_features)\n",
    "mnb_best.fit(X_train_new,Y_train)\n",
    "y_pred = mnb_best.predict(X_test_new)\n",
    "\n",
    "print(\"accuracy:\", accuracy_score(Y_test, y_pred))\n",
    "print(\"F1 score:\", f1_score(Y_test, y_pred,average=\"macro\"))\n",
    "precision = precision_score(Y_test, y_pred, average='macro')\n",
    "recall = recall_score(Y_test, y_pred, average='macro')\n",
    "f1 = f1_score(Y_test, y_pred, average='macro')\n",
    "\n",
    "accuracy = accuracy_score(Y_test, y_pred)\n",
    "print('Accuracy:', accuracy)\n",
    "from sklearn.metrics import classification_report\n",
    "print(classification_report(Y_test,y_pred))"
   ]
  },
  {
   "cell_type": "code",
   "execution_count": 115,
   "id": "b0237217",
   "metadata": {},
   "outputs": [
    {
     "name": "stdout",
     "output_type": "stream",
     "text": [
      "absolutely: 0.27\n",
      "abruptly: 0.20\n",
      "aforementioned: 0.20\n",
      "ad: 0.10\n",
      "across: 0.09\n",
      "adorable: 0.08\n",
      "abc: 0.05\n",
      "acceptable: 0.05\n",
      "acknowledge: 0.05\n",
      "actual: 0.05\n",
      "actually: 0.05\n",
      "additional: 0.05\n",
      "affordable: 0.05\n",
      "accord: 0.03\n",
      "add: 0.00\n"
     ]
    },
    {
     "name": "stderr",
     "output_type": "stream",
     "text": [
      "/Library/Frameworks/Python.framework/Versions/3.11/lib/python3.11/site-packages/sklearn/utils/deprecation.py:87: FutureWarning: Function get_feature_names is deprecated; get_feature_names is deprecated in 1.0 and will be removed in 1.2. Please use get_feature_names_out instead.\n",
      "  warnings.warn(msg, category=FutureWarning)\n"
     ]
    },
    {
     "data": {
      "image/png": "[encoded data removed]",
      "text/plain": [
       "<Figure size 1000x600 with 1 Axes>"
      ]
     },
     "metadata": {},
     "output_type": "display_data"
    }
   ],
   "source": [
    "feat_probs = np.exp(mnb_best.feature_log_prob_)\n",
    "\n",
    "# Get the vocabulary (list of words) from the vectorizer\n",
    "vocab = tf_idf_vectorizer.get_feature_names()\n",
    "\n",
    "# Compute the feature importance as the difference in probabilities between the two classes\n",
    "importance = np.abs(feat_probs[0] - feat_probs[1])\n",
    "\n",
    "# Combine the feature importance and vocabulary into a dictionary\n",
    "feat_imp_dict = dict(zip(vocab, importance))\n",
    "\n",
    "# Sort the dictionary by the feature importance (in descending order)\n",
    "sorted_feats = sorted(feat_imp_dict, key=feat_imp_dict.get, reverse=True)\n",
    "\n",
    "# Print the top 15 features and their importance\n",
    "for feat in sorted_feats[:15]:\n",
    "    print(f'{feat}: {feat_imp_dict[feat]:.2f}')\n",
    "    \n",
    "# Create a bar graph of the top 15 features and their importance\n",
    "plt.figure(figsize=(10, 6))\n",
    "plt.bar(sorted_feats[:15], [feat_imp_dict[feat] for feat in sorted_feats[:15]])\n",
    "plt.xticks(rotation=45, ha='right')\n",
    "plt.xlabel('Feature')\n",
    "plt.ylabel('Importance')\n",
    "plt.title('Top 15 Features by Importance')\n",
    "plt.show()"
   ]
  },
  {
   "cell_type": "code",
   "execution_count": 116,
   "id": "7bd584bc",
   "metadata": {
    "scrolled": true
   },
   "outputs": [
    {
     "name": "stdout",
     "output_type": "stream",
     "text": [
      "              precision    recall  f1-score   support\n",
      "\n",
      "           0       1.00      0.07      0.13        14\n",
      "           1       0.41      1.00      0.58         9\n",
      "\n",
      "    accuracy                           0.43        23\n",
      "   macro avg       0.70      0.54      0.36        23\n",
      "weighted avg       0.77      0.43      0.31        23\n",
      "\n"
     ]
    }
   ],
   "source": [
    "from sklearn.metrics import classification_report\n",
    "print(classification_report(Y_test,y_pred))"
   ]
  },
  {
   "cell_type": "code",
   "execution_count": 117,
   "id": "7617beaf",
   "metadata": {},
   "outputs": [],
   "source": [
    "#standardscaler\n",
    "from sklearn.preprocessing import StandardScaler\n",
    "scaler = StandardScaler().fit(X_train)\n",
    "X_train_scaled = scaler.transform(X_train)\n",
    "X_test_scaled = scaler.transform(X_test)"
   ]
  },
  {
   "cell_type": "code",
   "execution_count": 118,
   "id": "52efbd22",
   "metadata": {},
   "outputs": [
    {
     "name": "stdout",
     "output_type": "stream",
     "text": [
      "accuracy: 0.43478260869565216\n",
      "F1 score: 0.35698924731182796\n"
     ]
    }
   ],
   "source": [
    "#Vanilla SVC\n",
    "from sklearn.svm import SVC\n",
    "model = SVC(kernel='linear')\n",
    "model.fit(X_train_scaled, Y_train)\n",
    "model.predict(X_test_scaled)\n",
    "print(\"accuracy:\", accuracy_score(Y_test, y_pred))\n",
    "print(\"F1 score:\", f1_score(Y_test, y_pred,average=\"macro\"))"
   ]
  },
  {
   "cell_type": "code",
   "execution_count": 119,
   "id": "cbb8fa2b",
   "metadata": {},
   "outputs": [
    {
     "name": "stdout",
     "output_type": "stream",
     "text": [
      "Parameter grid:\n",
      "{'kernel': ['linear', 'rbf', 'poly'], 'C': [0.1, 1, 2, 3, 4, 5, 10, 20, 30, 40, 50, 60, 70, 100], 'gamma': [0.1, 0.01, 0.001, 1, 10]}\n",
      "Fitting 10 folds for each of 210 candidates, totalling 2100 fits\n",
      "Best model: {'C': 0.1, 'gamma': 0.1, 'kernel': 'linear'}\n",
      "Best score: 0.722222\n",
      "Best test auc: 0.347826\n",
      "accuracy: 0.34782608695652173\n",
      "F1 score: 0.3274853801169591\n",
      "Accuracy: 0.34782608695652173\n"
     ]
    }
   ],
   "source": [
    "from sklearn.svm import SVC\n",
    "\n",
    "param_grid = {\n",
    "    'kernel': ['linear','rbf','poly'],\n",
    "    'C': [0.1,1,2,3,4,5,10,20,30,40,50,60,70,100],\n",
    "    'gamma': [0.1, 0.01, 0.001,1,10]\n",
    "}\n",
    "print(\"Parameter grid:\\n{}\".format(param_grid))\n",
    "svc_vec_gs = GridSearchCV(estimator=SVC() , param_grid=param_grid ,\n",
    "        scoring='roc_auc', cv=10, n_jobs=multiprocessing.cpu_count(), verbose=1)\n",
    "\n",
    "svc_vec_gs.fit(X_train_scaled, Y_train)\n",
    "\n",
    "svc_vec_best = svc_vec_gs.best_estimator_\n",
    "svc_vec_best.fit(X_train_scaled,Y_train)\n",
    "\n",
    "print('Best model: %s' % str(svc_vec_gs.best_params_))\n",
    "print('Best score: %f' % svc_vec_gs.best_score_)\n",
    "print('Best test auc: %f' % svc_vec_best.score(X_test_scaled,Y_test))\n",
    "\n",
    "y_pred = svc_vec_best.predict(X_test_scaled)\n",
    "print(\"accuracy:\", accuracy_score(Y_test, y_pred))\n",
    "print(\"F1 score:\", f1_score(Y_test, y_pred,average=\"macro\"))\n",
    "precision = precision_score(Y_test, y_pred, average='macro')\n",
    "recall = recall_score(Y_test, y_pred, average='macro')\n",
    "f1 = f1_score(Y_test, y_pred, average='macro')\n",
    "\n",
    "accuracy = accuracy_score(Y_test, y_pred)\n",
    "print('Accuracy:', accuracy)"
   ]
  },
  {
   "cell_type": "code",
   "execution_count": 120,
   "id": "094d51dd",
   "metadata": {},
   "outputs": [
    {
     "name": "stdout",
     "output_type": "stream",
     "text": [
      "[  38  520  523  546  574  672  677  727  786  820  956 1147 1148 1176\n",
      " 1205]\n",
      "accuracy: 0.391304347826087\n",
      "F1 score: 0.28125\n",
      "Accuracy: 0.391304347826087\n",
      "              precision    recall  f1-score   support\n",
      "\n",
      "           0       0.00      0.00      0.00        14\n",
      "           1       0.39      1.00      0.56         9\n",
      "\n",
      "    accuracy                           0.39        23\n",
      "   macro avg       0.20      0.50      0.28        23\n",
      "weighted avg       0.15      0.39      0.22        23\n",
      "\n"
     ]
    },
    {
     "name": "stderr",
     "output_type": "stream",
     "text": [
      "/Library/Frameworks/Python.framework/Versions/3.11/lib/python3.11/site-packages/sklearn/metrics/_classification.py:1334: UndefinedMetricWarning: Precision is ill-defined and being set to 0.0 in labels with no predicted samples. Use `zero_division` parameter to control this behavior.\n",
      "  _warn_prf(average, modifier, msg_start, len(result))\n",
      "/Library/Frameworks/Python.framework/Versions/3.11/lib/python3.11/site-packages/sklearn/metrics/_classification.py:1334: UndefinedMetricWarning: Precision and F-score are ill-defined and being set to 0.0 in labels with no predicted samples. Use `zero_division` parameter to control this behavior.\n",
      "  _warn_prf(average, modifier, msg_start, len(result))\n",
      "/Library/Frameworks/Python.framework/Versions/3.11/lib/python3.11/site-packages/sklearn/metrics/_classification.py:1334: UndefinedMetricWarning: Precision and F-score are ill-defined and being set to 0.0 in labels with no predicted samples. Use `zero_division` parameter to control this behavior.\n",
      "  _warn_prf(average, modifier, msg_start, len(result))\n",
      "/Library/Frameworks/Python.framework/Versions/3.11/lib/python3.11/site-packages/sklearn/metrics/_classification.py:1334: UndefinedMetricWarning: Precision and F-score are ill-defined and being set to 0.0 in labels with no predicted samples. Use `zero_division` parameter to control this behavior.\n",
      "  _warn_prf(average, modifier, msg_start, len(result))\n"
     ]
    }
   ],
   "source": [
    "from sklearn.feature_selection import SelectKBest, chi2,f_classif,mutual_info_classif\n",
    "selector = SelectKBest(f_classif, k=15)\n",
    "X_train_new = selector.fit_transform(X_train_scaled,Y_train)\n",
    "X_test_new = selector.transform(X_test)\n",
    "top_features = selector.get_support(indices=True)\n",
    "print(top_features)\n",
    "svc_vec_best.fit(X_train_new,Y_train)\n",
    "y_pred = svc_vec_best.predict(X_test_new)\n",
    "\n",
    "print(\"accuracy:\", accuracy_score(Y_test, y_pred))\n",
    "print(\"F1 score:\", f1_score(Y_test, y_pred,average=\"macro\"))\n",
    "precision = precision_score(Y_test, y_pred, average='macro')\n",
    "recall = recall_score(Y_test, y_pred, average='macro')\n",
    "f1 = f1_score(Y_test, y_pred, average='macro')\n",
    "\n",
    "accuracy = accuracy_score(Y_test, y_pred)\n",
    "print('Accuracy:', accuracy)\n",
    "from sklearn.metrics import classification_report\n",
    "print(classification_report(Y_test,y_pred))"
   ]
  },
  {
   "cell_type": "code",
   "execution_count": 121,
   "id": "137249f9",
   "metadata": {},
   "outputs": [
    {
     "name": "stdout",
     "output_type": "stream",
     "text": [
      "Top 15 features:\n",
      "abc: 0.000\n",
      "abruptly: 0.000\n",
      "acknowledge: 0.000\n",
      "across: 0.000\n",
      "adorable: 0.000\n",
      "add: 0.000\n",
      "actually: 0.000\n",
      "additional: 0.000\n",
      "aforementioned: 0.085\n",
      "accord: 0.138\n",
      "actual: 0.239\n",
      "affordable: 0.239\n",
      "absolutely: 0.239\n",
      "acceptable: 0.239\n",
      "ad: 0.239\n"
     ]
    },
    {
     "name": "stderr",
     "output_type": "stream",
     "text": [
      "/Library/Frameworks/Python.framework/Versions/3.11/lib/python3.11/site-packages/sklearn/utils/deprecation.py:87: FutureWarning: Function get_feature_names is deprecated; get_feature_names is deprecated in 1.0 and will be removed in 1.2. Please use get_feature_names_out instead.\n",
      "  warnings.warn(msg, category=FutureWarning)\n"
     ]
    },
    {
     "data": {
      "image/png": "[encoded data removed]",
      "text/plain": [
       "<Figure size 1000x800 with 1 Axes>"
      ]
     },
     "metadata": {},
     "output_type": "display_data"
    }
   ],
   "source": [
    "#Feature importance using SVM\n",
    "svm_weights = np.abs(svc_vec_best.coef_[0])\n",
    "top_features = np.argsort(svm_weights)[-15:]\n",
    "print(\"Top 15 features:\")\n",
    "feature_names = tf_idf_vectorizer.get_feature_names()\n",
    "for i in top_features:\n",
    "    print(f\"{feature_names[i]}: {svm_weights[i]:.3f}\")\n",
    "\n",
    "plt.figure(figsize=(10, 8))\n",
    "plt.bar(range(len(top_features)), svm_weights[top_features])\n",
    "plt.xticks(range(len(top_features)), [feature_names[i] for i in top_features], rotation=90)\n",
    "plt.xlabel(\"Features\")\n",
    "plt.ylabel(\"Importance\")\n",
    "plt.title(\"Feature Importance (Top 15)\")\n",
    "plt.show()"
   ]
  },
  {
   "cell_type": "code",
   "execution_count": 122,
   "id": "45220152",
   "metadata": {},
   "outputs": [
    {
     "name": "stdout",
     "output_type": "stream",
     "text": [
      "              precision    recall  f1-score   support\n",
      "\n",
      "           0       0.00      0.00      0.00        14\n",
      "           1       0.39      1.00      0.56         9\n",
      "\n",
      "    accuracy                           0.39        23\n",
      "   macro avg       0.20      0.50      0.28        23\n",
      "weighted avg       0.15      0.39      0.22        23\n",
      "\n"
     ]
    },
    {
     "name": "stderr",
     "output_type": "stream",
     "text": [
      "/Library/Frameworks/Python.framework/Versions/3.11/lib/python3.11/site-packages/sklearn/metrics/_classification.py:1334: UndefinedMetricWarning: Precision and F-score are ill-defined and being set to 0.0 in labels with no predicted samples. Use `zero_division` parameter to control this behavior.\n",
      "  _warn_prf(average, modifier, msg_start, len(result))\n",
      "/Library/Frameworks/Python.framework/Versions/3.11/lib/python3.11/site-packages/sklearn/metrics/_classification.py:1334: UndefinedMetricWarning: Precision and F-score are ill-defined and being set to 0.0 in labels with no predicted samples. Use `zero_division` parameter to control this behavior.\n",
      "  _warn_prf(average, modifier, msg_start, len(result))\n",
      "/Library/Frameworks/Python.framework/Versions/3.11/lib/python3.11/site-packages/sklearn/metrics/_classification.py:1334: UndefinedMetricWarning: Precision and F-score are ill-defined and being set to 0.0 in labels with no predicted samples. Use `zero_division` parameter to control this behavior.\n",
      "  _warn_prf(average, modifier, msg_start, len(result))\n"
     ]
    }
   ],
   "source": [
    "from sklearn.metrics import classification_report\n",
    "print(classification_report(Y_test,y_pred))"
   ]
  },
  {
   "cell_type": "code",
   "execution_count": 123,
   "id": "9a22f3eb",
   "metadata": {},
   "outputs": [
    {
     "name": "stdout",
     "output_type": "stream",
     "text": [
      "accuracy: 0.391304347826087\n",
      "F1 score: 0.28125\n"
     ]
    }
   ],
   "source": [
    "#Vanilla random forest\n",
    "from sklearn.ensemble import RandomForestClassifier\n",
    "model = RandomForestClassifier(n_estimators=100, random_state=42)\n",
    "model.fit(X_train_scaled, Y_train)\n",
    "model.predict(X_test_scaled)\n",
    "print(\"accuracy:\", accuracy_score(Y_test, y_pred))\n",
    "print(\"F1 score:\", f1_score(Y_test, y_pred,average=\"macro\"))"
   ]
  },
  {
   "cell_type": "code",
   "execution_count": 124,
   "id": "34a57b76",
   "metadata": {},
   "outputs": [
    {
     "name": "stdout",
     "output_type": "stream",
     "text": [
      "Parameter grid:\n",
      "{'bootstrap': [True, False], 'max_depth': [3, 5, 7, 9], 'min_samples_leaf': [10, 20, 30, 50], 'min_samples_split': [15, 20, 30]}\n",
      "Fitting 10 folds for each of 96 candidates, totalling 960 fits\n",
      "Best model: {'bootstrap': False, 'max_depth': 5, 'min_samples_leaf': 10, 'min_samples_split': 20}\n",
      "Best score: 0.686111\n",
      "Best test auc: 0.391304\n",
      "accuracy: 0.391304347826087\n",
      "F1 score: 0.28125\n",
      "Accuracy: 0.391304347826087\n"
     ]
    },
    {
     "name": "stderr",
     "output_type": "stream",
     "text": [
      "/Library/Frameworks/Python.framework/Versions/3.11/lib/python3.11/site-packages/sklearn/metrics/_classification.py:1334: UndefinedMetricWarning: Precision is ill-defined and being set to 0.0 in labels with no predicted samples. Use `zero_division` parameter to control this behavior.\n",
      "  _warn_prf(average, modifier, msg_start, len(result))\n"
     ]
    }
   ],
   "source": [
    "from sklearn.ensemble import RandomForestClassifier\n",
    "\n",
    "param_grid = {\n",
    "    'bootstrap': [True, False],\n",
    "    'max_depth': [3,5,7,9],\n",
    "    'min_samples_leaf': [10, 20, 30, 50],\n",
    "    'min_samples_split': [15, 20, 30]\n",
    "}\n",
    "print(\"Parameter grid:\\n{}\".format(param_grid))\n",
    "random_gs = GridSearchCV(estimator=RandomForestClassifier(), param_grid=param_grid ,\n",
    "        scoring='roc_auc', cv=10, n_jobs=multiprocessing.cpu_count(), verbose=1)\n",
    "\n",
    "random_gs.fit(X_train_scaled, Y_train)\n",
    "\n",
    "random_best = random_gs.best_estimator_\n",
    "random_best.fit(X_train_scaled,Y_train)\n",
    "\n",
    "print('Best model: %s' % str(random_gs.best_params_))\n",
    "print('Best score: %f' % random_gs.best_score_)\n",
    "print('Best test auc: %f' % random_best.score(X_test_scaled,Y_test))\n",
    "\n",
    "y_pred = random_best.predict(X_test_scaled)\n",
    "print(\"accuracy:\", accuracy_score(Y_test, y_pred))\n",
    "print(\"F1 score:\", f1_score(Y_test, y_pred,average=\"macro\"))\n",
    "precision = precision_score(Y_test, y_pred, average='macro')\n",
    "recall = recall_score(Y_test, y_pred, average='macro')\n",
    "f1 = f1_score(Y_test, y_pred, average='macro')\n",
    "\n",
    "accuracy = accuracy_score(Y_test, y_pred)\n",
    "print('Accuracy:', accuracy)"
   ]
  },
  {
   "cell_type": "code",
   "execution_count": 125,
   "id": "dd6706ff",
   "metadata": {},
   "outputs": [
    {
     "name": "stdout",
     "output_type": "stream",
     "text": [
      "[   9   95  139  152  314  365  719  746  785  853  929 1116 1144 1172\n",
      " 1199]\n",
      "accuracy: 0.391304347826087\n",
      "F1 score: 0.28125\n",
      "Accuracy: 0.391304347826087\n",
      "              precision    recall  f1-score   support\n",
      "\n",
      "           0       0.00      0.00      0.00        14\n",
      "           1       0.39      1.00      0.56         9\n",
      "\n",
      "    accuracy                           0.39        23\n",
      "   macro avg       0.20      0.50      0.28        23\n",
      "weighted avg       0.15      0.39      0.22        23\n",
      "\n"
     ]
    },
    {
     "name": "stderr",
     "output_type": "stream",
     "text": [
      "/Library/Frameworks/Python.framework/Versions/3.11/lib/python3.11/site-packages/sklearn/metrics/_classification.py:1334: UndefinedMetricWarning: Precision is ill-defined and being set to 0.0 in labels with no predicted samples. Use `zero_division` parameter to control this behavior.\n",
      "  _warn_prf(average, modifier, msg_start, len(result))\n",
      "/Library/Frameworks/Python.framework/Versions/3.11/lib/python3.11/site-packages/sklearn/metrics/_classification.py:1334: UndefinedMetricWarning: Precision and F-score are ill-defined and being set to 0.0 in labels with no predicted samples. Use `zero_division` parameter to control this behavior.\n",
      "  _warn_prf(average, modifier, msg_start, len(result))\n",
      "/Library/Frameworks/Python.framework/Versions/3.11/lib/python3.11/site-packages/sklearn/metrics/_classification.py:1334: UndefinedMetricWarning: Precision and F-score are ill-defined and being set to 0.0 in labels with no predicted samples. Use `zero_division` parameter to control this behavior.\n",
      "  _warn_prf(average, modifier, msg_start, len(result))\n",
      "/Library/Frameworks/Python.framework/Versions/3.11/lib/python3.11/site-packages/sklearn/metrics/_classification.py:1334: UndefinedMetricWarning: Precision and F-score are ill-defined and being set to 0.0 in labels with no predicted samples. Use `zero_division` parameter to control this behavior.\n",
      "  _warn_prf(average, modifier, msg_start, len(result))\n"
     ]
    }
   ],
   "source": [
    "from sklearn.feature_selection import SelectKBest, chi2,f_classif,mutual_info_classif\n",
    "selector = SelectKBest(f_classif, k=15)\n",
    "X_train_new = selector.fit_transform(X_train_scaled,Y_train)\n",
    "X_test_new = selector.transform(X_test)\n",
    "top_features = selector.get_support(indices=True)\n",
    "print(top_features)\n",
    "random_best.fit(X_train_new,Y_train)\n",
    "y_pred = random_best.predict(X_test_new)\n",
    "\n",
    "print(\"accuracy:\", accuracy_score(Y_test, y_pred))\n",
    "print(\"F1 score:\", f1_score(Y_test, y_pred,average=\"macro\"))\n",
    "precision = precision_score(Y_test, y_pred, average='macro')\n",
    "recall = recall_score(Y_test, y_pred, average='macro')\n",
    "f1 = f1_score(Y_test, y_pred, average='macro')\n",
    "\n",
    "accuracy = accuracy_score(Y_test, y_pred)\n",
    "print('Accuracy:', accuracy)\n",
    "from sklearn.metrics import classification_report\n",
    "print(classification_report(Y_test,y_pred))"
   ]
  },
  {
   "cell_type": "code",
   "execution_count": 126,
   "id": "5ecb3f98",
   "metadata": {},
   "outputs": [
    {
     "name": "stdout",
     "output_type": "stream",
     "text": [
      "Top 15 features:\n",
      "abc: 0.000\n",
      "abruptly: 0.000\n",
      "absolutely: 0.000\n",
      "acceptable: 0.000\n",
      "accord: 0.000\n",
      "acknowledge: 0.000\n",
      "across: 0.000\n",
      "actual: 0.000\n",
      "actually: 0.000\n",
      "ad: 0.000\n",
      "add: 0.000\n",
      "additional: 0.000\n",
      "adorable: 0.000\n",
      "affordable: 0.000\n",
      "aforementioned: 1.000\n"
     ]
    },
    {
     "name": "stderr",
     "output_type": "stream",
     "text": [
      "/Library/Frameworks/Python.framework/Versions/3.11/lib/python3.11/site-packages/sklearn/utils/deprecation.py:87: FutureWarning: Function get_feature_names is deprecated; get_feature_names is deprecated in 1.0 and will be removed in 1.2. Please use get_feature_names_out instead.\n",
      "  warnings.warn(msg, category=FutureWarning)\n"
     ]
    },
    {
     "data": {
      "image/png": "[encoded data removed]",
      "text/plain": [
       "<Figure size 1000x800 with 1 Axes>"
      ]
     },
     "metadata": {},
     "output_type": "display_data"
    }
   ],
   "source": [
    "#Feature importance for random forest classifier\n",
    "rf_importances = random_best.feature_importances_\n",
    "top_features = np.argsort(rf_importances)[-15:]\n",
    "print(\"Top 15 features:\")\n",
    "feature_names = tf_idf_vectorizer.get_feature_names()\n",
    "for i in top_features:\n",
    "    print(f\"{feature_names[i]}: {rf_importances[i]:.3f}\")\n",
    "\n",
    "# Plot the feature importances for the top 15 features\n",
    "plt.figure(figsize=(10, 8))\n",
    "plt.bar(range(len(top_features)), rf_importances[top_features])\n",
    "plt.xticks(range(len(top_features)), [feature_names[i] for i in top_features], rotation=90)\n",
    "plt.xlabel(\"Features\")\n",
    "plt.ylabel(\"Importance\")\n",
    "plt.title(\"Feature Importance (Top 15)\")\n",
    "plt.show()\n"
   ]
  },
  {
   "cell_type": "code",
   "execution_count": 127,
   "id": "42e42c07",
   "metadata": {},
   "outputs": [
    {
     "name": "stdout",
     "output_type": "stream",
     "text": [
      "              precision    recall  f1-score   support\n",
      "\n",
      "           0       0.00      0.00      0.00        14\n",
      "           1       0.39      1.00      0.56         9\n",
      "\n",
      "    accuracy                           0.39        23\n",
      "   macro avg       0.20      0.50      0.28        23\n",
      "weighted avg       0.15      0.39      0.22        23\n",
      "\n"
     ]
    },
    {
     "name": "stderr",
     "output_type": "stream",
     "text": [
      "/Library/Frameworks/Python.framework/Versions/3.11/lib/python3.11/site-packages/sklearn/metrics/_classification.py:1334: UndefinedMetricWarning: Precision and F-score are ill-defined and being set to 0.0 in labels with no predicted samples. Use `zero_division` parameter to control this behavior.\n",
      "  _warn_prf(average, modifier, msg_start, len(result))\n",
      "/Library/Frameworks/Python.framework/Versions/3.11/lib/python3.11/site-packages/sklearn/metrics/_classification.py:1334: UndefinedMetricWarning: Precision and F-score are ill-defined and being set to 0.0 in labels with no predicted samples. Use `zero_division` parameter to control this behavior.\n",
      "  _warn_prf(average, modifier, msg_start, len(result))\n",
      "/Library/Frameworks/Python.framework/Versions/3.11/lib/python3.11/site-packages/sklearn/metrics/_classification.py:1334: UndefinedMetricWarning: Precision and F-score are ill-defined and being set to 0.0 in labels with no predicted samples. Use `zero_division` parameter to control this behavior.\n",
      "  _warn_prf(average, modifier, msg_start, len(result))\n"
     ]
    }
   ],
   "source": [
    "from sklearn.metrics import classification_report\n",
    "print(classification_report(Y_test,y_pred))"
   ]
  },
  {
   "cell_type": "code",
   "execution_count": 166,
   "id": "dbf1fddc",
   "metadata": {},
   "outputs": [],
   "source": [
    "##SENTIMENT DETECTION USING tf_idf_VECTORIZER\n",
    "reviews_categories = {\n",
    "    'negative': 0,\n",
    "    'positive': 1}\n",
    "\n",
    "reviews_X = []\n",
    "token_reviews_X = []\n",
    "reviews_Y = []"
   ]
  },
  {
   "cell_type": "code",
   "execution_count": 167,
   "id": "540cf42a",
   "metadata": {},
   "outputs": [],
   "source": [
    "# load stop-words\n",
    "stop_words = set(stopwords.words('english'))\n",
    "\n",
    "# initialize tokenizer\n",
    "regexp_tokenizer = RegexpTokenizer('[\\'a-zA-Z]+')\n",
    "\n",
    "# initialize lemmatizer\n",
    "wordnet_lemmatizer = WordNetLemmatizer()\n",
    "\n",
    "# initialize stemmer\n",
    "porter_stemmer = PorterStemmer()"
   ]
  },
  {
   "cell_type": "code",
   "execution_count": 168,
   "id": "bad96a2c",
   "metadata": {},
   "outputs": [],
   "source": [
    "for index, row in reviews_df.iterrows():\n",
    "    category = row.sentiment\n",
    "    text = row.review\n",
    "\n",
    "    category_idx = reviews_categories[category]\n",
    "\n",
    "    reviews_X.append(text_process(text))\n",
    "    token_reviews_X.append(text_process(text,False))\n",
    "    reviews_Y.append(category_idx)"
   ]
  },
  {
   "cell_type": "code",
   "execution_count": 169,
   "id": "9d639d01",
   "metadata": {},
   "outputs": [],
   "source": [
    "###SENTIMENT DETECTION USING TF-IDF\n",
    "\n",
    "tf_idf_vectorizer = TfidfVectorizer()\n",
    "reviews_X_vec = tf_idf_vectorizer.fit_transform(reviews_X)"
   ]
  },
  {
   "cell_type": "code",
   "execution_count": 170,
   "id": "a9d63f95",
   "metadata": {},
   "outputs": [],
   "source": [
    "X_train, X_test, Y_train, Y_test = train_test_split(reviews_X_vec.toarray(), reviews_Y, test_size=0.25, random_state=1)"
   ]
  },
  {
   "cell_type": "code",
   "execution_count": 171,
   "id": "db447863",
   "metadata": {},
   "outputs": [],
   "source": [
    "#Minmax scaler to scale data to 0 to 1 for naive bayes\n",
    "from sklearn.preprocessing import MinMaxScaler\n",
    "scaler = MinMaxScaler().fit(X_train)\n",
    "X_train_scaled = scaler.transform(X_train)\n",
    "X_test_scaled = scaler.transform(X_test)\n"
   ]
  },
  {
   "cell_type": "code",
   "execution_count": 172,
   "id": "8999c8ef",
   "metadata": {},
   "outputs": [
    {
     "name": "stdout",
     "output_type": "stream",
     "text": [
      "accuracy: 0.8695652173913043\n",
      "F1 score: 0.8654970760233919\n"
     ]
    }
   ],
   "source": [
    "#Vanilla Multinomial\n",
    "model = MultinomialNB()\n",
    "model.fit(X_train_scaled, Y_train)\n",
    "model.predict(X_test_scaled)\n",
    "print(\"accuracy:\", accuracy_score(Y_test, y_pred))\n",
    "print(\"F1 score:\", f1_score(Y_test, y_pred,average=\"macro\"))\n"
   ]
  },
  {
   "cell_type": "code",
   "execution_count": 173,
   "id": "2fa383f7",
   "metadata": {},
   "outputs": [
    {
     "name": "stdout",
     "output_type": "stream",
     "text": [
      "Parameter grid:\n",
      "{'alpha': [0.001, 0.01, 0.1, 0.2, 0.3, 0.4, 0.5, 0.6, 0.7, 0.8, 0.9, 1.0]}\n",
      "Fitting 10 folds for each of 12 candidates, totalling 120 fits\n",
      "Best model: {'alpha': 0.2}\n",
      "Best score: 0.866667\n",
      "Best test auc: 0.869565\n",
      "accuracy: 0.8695652173913043\n",
      "F1 score: 0.8654970760233919\n",
      "Accuracy: 0.8695652173913043\n"
     ]
    }
   ],
   "source": [
    "#Multinomial NB\n",
    "from sklearn.naive_bayes import MultinomialNB\n",
    "\n",
    "param_grid = {'alpha': [0.001, 0.01, 0.1, 0.2, 0.3, 0.4, 0.5, 0.6, 0.7, 0.8, 0.9, 1.0]}\n",
    "print(\"Parameter grid:\\n{}\".format(param_grid))\n",
    "\n",
    "mnb_grid_search = GridSearchCV(MultinomialNB(), param_grid=param_grid, cv=10,scoring=\"roc_auc\",n_jobs=multiprocessing.cpu_count(),verbose=1)\n",
    "mnb_grid_search.fit(X_train_scaled, Y_train)\n",
    "\n",
    "mnb_best = mnb_grid_search.best_estimator_\n",
    "mnb_best.fit(X_train_scaled,Y_train)\n",
    "print('Best model: %s' % str(mnb_grid_search.best_params_))\n",
    "print('Best score: %f' % mnb_grid_search.best_score_)\n",
    "print('Best test auc: %f' % mnb_best.score(X_test_scaled,Y_test))\n",
    "\n",
    "y_pred = mnb_best.predict(X_test_scaled)\n",
    "y_prob = mnb_best.predict_proba(X_test_scaled)\n",
    "print(\"accuracy:\", accuracy_score(Y_test, y_pred))\n",
    "print(\"F1 score:\", f1_score(Y_test, y_pred,average=\"macro\"))\n",
    "precision = precision_score(Y_test, y_pred, average='macro')\n",
    "recall = recall_score(Y_test, y_pred, average='macro')\n",
    "f1 = f1_score(Y_test, y_pred, average='macro')\n",
    "\n",
    "accuracy = accuracy_score(Y_test, y_pred)\n",
    "print('Accuracy:', accuracy)\n"
   ]
  },
  {
   "cell_type": "code",
   "execution_count": 176,
   "id": "8a452729",
   "metadata": {},
   "outputs": [
    {
     "name": "stdout",
     "output_type": "stream",
     "text": [
      "[  28   29   58   79  108  167  228  459  491  695  725  758  935 1110\n",
      " 1137]\n",
      "accuracy: 0.391304347826087\n",
      "F1 score: 0.28125\n",
      "Accuracy: 0.391304347826087\n",
      "              precision    recall  f1-score   support\n",
      "\n",
      "           0       0.39      1.00      0.56         9\n",
      "           1       0.00      0.00      0.00        14\n",
      "\n",
      "    accuracy                           0.39        23\n",
      "   macro avg       0.20      0.50      0.28        23\n",
      "weighted avg       0.15      0.39      0.22        23\n",
      "\n"
     ]
    },
    {
     "name": "stderr",
     "output_type": "stream",
     "text": [
      "/Library/Frameworks/Python.framework/Versions/3.11/lib/python3.11/site-packages/sklearn/feature_selection/_univariate_selection.py:110: UserWarning: Features [   2    6    7   12   19   22   32   38   42   43   44   49   55   64\n",
      "   68   81   85   87   93   94   97   98  101  106  107  112  122  123\n",
      "  126  127  130  131  133  139  142  146  149  152  157  160  162  166\n",
      "  168  170  171  178  183  184  188  194  210  211  215  216  225  235\n",
      "  240  242  247  248  252  254  255  257  259  263  266  270  273  274\n",
      "  277  325  330  336  339  340  342  347  350  354  355  356  361  366\n",
      "  377  378  383  391  392  400  405  415  427  440  449  453  455  468\n",
      "  470  473  476  479  488  496  499  500  501  502  512  513  520  521\n",
      "  526  535  540  541  543  544  557  561  562  565  566  568  571  578\n",
      "  580  585  591  592  606  608  611  619  629  646  660  665  666  667\n",
      "  672  673  676  677  678  680  682  687  696  697  700  702  706  710\n",
      "  714  715  723  724  736  745  761  774  778  780  792  797  799  801\n",
      "  804  808  809  813  823  829  830  834  835  838  839  843  846  852\n",
      "  853  856  862  869  870  891  896  898  900  901  905  917  920  921\n",
      "  922  924  925  926  938  940  949  952  959  962  966  967  978  979\n",
      "  980  982  987  991  994  996  997 1000 1009 1013 1014 1015 1017 1021\n",
      " 1025 1036 1041 1043 1044 1046 1055 1066 1069 1070 1072 1076 1086 1099\n",
      " 1100 1104 1105 1115 1129 1130 1132 1135 1141 1146 1148 1157 1164 1174\n",
      " 1184 1191 1193 1211 1216 1217 1219 1237 1238 1240 1242 1246 1247 1257\n",
      " 1264] are constant.\n",
      "  warnings.warn(\"Features %s are constant.\" % constant_features_idx, UserWarning)\n",
      "/Library/Frameworks/Python.framework/Versions/3.11/lib/python3.11/site-packages/sklearn/feature_selection/_univariate_selection.py:111: RuntimeWarning: invalid value encountered in divide\n",
      "  f = msb / msw\n",
      "/Library/Frameworks/Python.framework/Versions/3.11/lib/python3.11/site-packages/sklearn/metrics/_classification.py:1334: UndefinedMetricWarning: Precision is ill-defined and being set to 0.0 in labels with no predicted samples. Use `zero_division` parameter to control this behavior.\n",
      "  _warn_prf(average, modifier, msg_start, len(result))\n",
      "/Library/Frameworks/Python.framework/Versions/3.11/lib/python3.11/site-packages/sklearn/metrics/_classification.py:1334: UndefinedMetricWarning: Precision and F-score are ill-defined and being set to 0.0 in labels with no predicted samples. Use `zero_division` parameter to control this behavior.\n",
      "  _warn_prf(average, modifier, msg_start, len(result))\n",
      "/Library/Frameworks/Python.framework/Versions/3.11/lib/python3.11/site-packages/sklearn/metrics/_classification.py:1334: UndefinedMetricWarning: Precision and F-score are ill-defined and being set to 0.0 in labels with no predicted samples. Use `zero_division` parameter to control this behavior.\n",
      "  _warn_prf(average, modifier, msg_start, len(result))\n",
      "/Library/Frameworks/Python.framework/Versions/3.11/lib/python3.11/site-packages/sklearn/metrics/_classification.py:1334: UndefinedMetricWarning: Precision and F-score are ill-defined and being set to 0.0 in labels with no predicted samples. Use `zero_division` parameter to control this behavior.\n",
      "  _warn_prf(average, modifier, msg_start, len(result))\n"
     ]
    }
   ],
   "source": [
    "from sklearn.feature_selection import SelectKBest, chi2,f_classif,mutual_info_classif\n",
    "selector = SelectKBest(f_classif, k=15)\n",
    "X_train_new = selector.fit_transform(X_train_scaled,Y_train)\n",
    "X_test_new = selector.transform(X_test)\n",
    "top_features = selector.get_support(indices=True)\n",
    "print(top_features)\n",
    "random_best.fit(X_train_new,Y_train)\n",
    "y_pred = random_best.predict(X_test_new)\n",
    "\n",
    "print(\"accuracy:\", accuracy_score(Y_test, y_pred))\n",
    "print(\"F1 score:\", f1_score(Y_test, y_pred,average=\"macro\"))\n",
    "precision = precision_score(Y_test, y_pred, average='macro')\n",
    "recall = recall_score(Y_test, y_pred, average='macro')\n",
    "f1 = f1_score(Y_test, y_pred, average='macro')\n",
    "\n",
    "accuracy = accuracy_score(Y_test, y_pred)\n",
    "print('Accuracy:', accuracy)\n",
    "from sklearn.metrics import classification_report\n",
    "print(classification_report(Y_test,y_pred))"
   ]
  },
  {
   "cell_type": "code",
   "execution_count": 137,
   "id": "6b5b59c8",
   "metadata": {},
   "outputs": [
    {
     "name": "stdout",
     "output_type": "stream",
     "text": [
      "best: 0.01\n",
      "amazing: 0.01\n",
      "great: 0.00\n",
      "terrible: 0.00\n",
      "said: 0.00\n",
      "came: 0.00\n",
      "minute: 0.00\n",
      "friendly: 0.00\n",
      "bad: 0.00\n",
      "ordered: 0.00\n",
      "always: 0.00\n",
      "took: 0.00\n",
      "really: 0.00\n",
      "never: 0.00\n",
      "dine: 0.00\n"
     ]
    },
    {
     "name": "stderr",
     "output_type": "stream",
     "text": [
      "/Library/Frameworks/Python.framework/Versions/3.11/lib/python3.11/site-packages/sklearn/utils/deprecation.py:87: FutureWarning: Function get_feature_names is deprecated; get_feature_names is deprecated in 1.0 and will be removed in 1.2. Please use get_feature_names_out instead.\n",
      "  warnings.warn(msg, category=FutureWarning)\n"
     ]
    },
    {
     "data": {
      "image/png": "[encoded data removed]",
      "text/plain": [
       "<Figure size 1000x600 with 1 Axes>"
      ]
     },
     "metadata": {},
     "output_type": "display_data"
    }
   ],
   "source": [
    "feat_probs = np.exp(mnb_best.feature_log_prob_)\n",
    "\n",
    "# Get the vocabulary (list of words) from the vectorizer\n",
    "vocab = tf_idf_vectorizer.get_feature_names()\n",
    "\n",
    "# Compute the feature importance as the difference in probabilities between the two classes\n",
    "importance = np.abs(feat_probs[0] - feat_probs[1])\n",
    "\n",
    "# Combine the feature importance and vocabulary into a dictionary\n",
    "feat_imp_dict = dict(zip(vocab, importance))\n",
    "\n",
    "# Sort the dictionary by the feature importance (in descending order)\n",
    "sorted_feats = sorted(feat_imp_dict, key=feat_imp_dict.get, reverse=True)\n",
    "\n",
    "# Print the top 15 features and their importance\n",
    "for feat in sorted_feats[:15]:\n",
    "    print(f'{feat}: {feat_imp_dict[feat]:.2f}')\n",
    "    \n",
    "# Create a bar graph of the top 15 features and their importance\n",
    "plt.figure(figsize=(10, 6))\n",
    "plt.bar(sorted_feats[:15], [feat_imp_dict[feat] for feat in sorted_feats[:15]])\n",
    "plt.xticks(rotation=45, ha='right')\n",
    "plt.xlabel('Feature')\n",
    "plt.ylabel('Importance')\n",
    "plt.title('Top 15 Features by Importance')\n",
    "plt.show()"
   ]
  },
  {
   "cell_type": "code",
   "execution_count": 138,
   "id": "fb3a0912",
   "metadata": {},
   "outputs": [
    {
     "name": "stdout",
     "output_type": "stream",
     "text": [
      "              precision    recall  f1-score   support\n",
      "\n",
      "           0       0.39      1.00      0.56         9\n",
      "           1       0.00      0.00      0.00        14\n",
      "\n",
      "    accuracy                           0.39        23\n",
      "   macro avg       0.20      0.50      0.28        23\n",
      "weighted avg       0.15      0.39      0.22        23\n",
      "\n"
     ]
    },
    {
     "name": "stderr",
     "output_type": "stream",
     "text": [
      "/Library/Frameworks/Python.framework/Versions/3.11/lib/python3.11/site-packages/sklearn/metrics/_classification.py:1334: UndefinedMetricWarning: Precision and F-score are ill-defined and being set to 0.0 in labels with no predicted samples. Use `zero_division` parameter to control this behavior.\n",
      "  _warn_prf(average, modifier, msg_start, len(result))\n",
      "/Library/Frameworks/Python.framework/Versions/3.11/lib/python3.11/site-packages/sklearn/metrics/_classification.py:1334: UndefinedMetricWarning: Precision and F-score are ill-defined and being set to 0.0 in labels with no predicted samples. Use `zero_division` parameter to control this behavior.\n",
      "  _warn_prf(average, modifier, msg_start, len(result))\n",
      "/Library/Frameworks/Python.framework/Versions/3.11/lib/python3.11/site-packages/sklearn/metrics/_classification.py:1334: UndefinedMetricWarning: Precision and F-score are ill-defined and being set to 0.0 in labels with no predicted samples. Use `zero_division` parameter to control this behavior.\n",
      "  _warn_prf(average, modifier, msg_start, len(result))\n"
     ]
    }
   ],
   "source": [
    "from sklearn.metrics import classification_report\n",
    "print(classification_report(Y_test,y_pred))"
   ]
  },
  {
   "cell_type": "code",
   "execution_count": 177,
   "id": "c4914e8b",
   "metadata": {},
   "outputs": [],
   "source": [
    "from sklearn.preprocessing import StandardScaler\n",
    "scaler = StandardScaler().fit(X_train)\n",
    "X_train_scaled = scaler.transform(X_train)\n",
    "X_test_scaled = scaler.transform(X_test)"
   ]
  },
  {
   "cell_type": "code",
   "execution_count": 178,
   "id": "109b8bfa",
   "metadata": {},
   "outputs": [
    {
     "name": "stdout",
     "output_type": "stream",
     "text": [
      "accuracy: 0.391304347826087\n",
      "F1 score: 0.28125\n"
     ]
    }
   ],
   "source": [
    "#Vanilla SVC\n",
    "model = SVC(kernel='linear')\n",
    "model.fit(X_train_scaled, Y_train)\n",
    "model.predict(X_test_scaled)\n",
    "print(\"accuracy:\", accuracy_score(Y_test, y_pred))\n",
    "print(\"F1 score:\", f1_score(Y_test, y_pred,average=\"macro\"))"
   ]
  },
  {
   "cell_type": "code",
   "execution_count": 179,
   "id": "dd8f6b6c",
   "metadata": {},
   "outputs": [
    {
     "name": "stdout",
     "output_type": "stream",
     "text": [
      "Parameter grid:\n",
      "{'kernel': ['linear', 'rbf'], 'C': [1, 10, 20, 50, 100], 'gamma': [0.1, 0.01, 0.001]}\n",
      "Fitting 10 folds for each of 30 candidates, totalling 300 fits\n",
      "Best model: {'C': 1, 'gamma': 0.1, 'kernel': 'linear'}\n",
      "Best score: 0.813889\n",
      "Best test auc: 0.826087\n",
      "accuracy: 0.8260869565217391\n",
      "F1 score: 0.7946428571428572\n",
      "Accuracy: 0.8260869565217391\n"
     ]
    }
   ],
   "source": [
    "from sklearn.svm import SVC\n",
    "\n",
    "param_grid = {\n",
    "    'kernel': ['linear','rbf'],\n",
    "    'C': [1,10,20,50,100],\n",
    "    'gamma': [0.1, 0.01, 0.001]\n",
    "}\n",
    "print(\"Parameter grid:\\n{}\".format(param_grid))\n",
    "svc_vec_gs = GridSearchCV(estimator=SVC() , param_grid=param_grid ,\n",
    "        scoring='roc_auc', cv=10, n_jobs=multiprocessing.cpu_count(), verbose=1)\n",
    "\n",
    "svc_vec_gs.fit(X_train_scaled, Y_train)\n",
    "\n",
    "svc_vec_best = svc_vec_gs.best_estimator_\n",
    "svc_vec_best.fit(X_train_scaled,Y_train)\n",
    "\n",
    "print('Best model: %s' % str(svc_vec_gs.best_params_))\n",
    "print('Best score: %f' % svc_vec_gs.best_score_)\n",
    "print('Best test auc: %f' % svc_vec_best.score(X_test_scaled,Y_test))\n",
    "\n",
    "y_pred = svc_vec_best.predict(X_test_scaled)\n",
    "print(\"accuracy:\", accuracy_score(Y_test, y_pred))\n",
    "print(\"F1 score:\", f1_score(Y_test, y_pred,average=\"macro\"))\n",
    "precision = precision_score(Y_test, y_pred, average='macro')\n",
    "recall = recall_score(Y_test, y_pred, average='macro')\n",
    "f1 = f1_score(Y_test, y_pred, average='macro')\n",
    "\n",
    "accuracy = accuracy_score(Y_test, y_pred)\n",
    "print('Accuracy:', accuracy)"
   ]
  },
  {
   "cell_type": "code",
   "execution_count": 182,
   "id": "dac26155",
   "metadata": {},
   "outputs": [
    {
     "name": "stdout",
     "output_type": "stream",
     "text": [
      "[  28   29   58   79  108  167  228  459  491  695  725  758  935 1110\n",
      " 1137]\n",
      "accuracy: 0.391304347826087\n",
      "F1 score: 0.28125\n",
      "Accuracy: 0.391304347826087\n",
      "              precision    recall  f1-score   support\n",
      "\n",
      "           0       0.39      1.00      0.56         9\n",
      "           1       0.00      0.00      0.00        14\n",
      "\n",
      "    accuracy                           0.39        23\n",
      "   macro avg       0.20      0.50      0.28        23\n",
      "weighted avg       0.15      0.39      0.22        23\n",
      "\n"
     ]
    },
    {
     "name": "stderr",
     "output_type": "stream",
     "text": [
      "/Library/Frameworks/Python.framework/Versions/3.11/lib/python3.11/site-packages/sklearn/feature_selection/_univariate_selection.py:110: UserWarning: Features [   2    6    7   12   19   22   32   38   42   43   44   49   55   64\n",
      "   68   81   85   87   93   94   97   98  101  106  107  112  122  123\n",
      "  126  127  130  131  133  139  142  146  149  152  157  160  162  166\n",
      "  168  170  171  178  183  184  188  194  210  211  215  216  225  235\n",
      "  240  242  247  248  252  254  255  257  259  263  266  270  273  274\n",
      "  277  325  330  336  339  340  342  347  350  354  355  356  361  366\n",
      "  377  378  383  391  392  400  405  415  427  440  449  453  455  468\n",
      "  470  473  476  479  488  496  499  500  501  502  512  513  520  521\n",
      "  526  535  540  541  543  544  557  561  562  565  566  568  571  578\n",
      "  580  585  591  592  606  608  611  619  629  646  660  665  666  667\n",
      "  672  673  676  677  678  680  682  687  696  697  700  702  706  710\n",
      "  714  715  723  724  736  745  761  774  778  780  792  797  799  801\n",
      "  804  808  809  813  823  829  830  834  835  838  839  843  846  852\n",
      "  853  856  862  869  870  891  896  898  900  901  905  917  920  921\n",
      "  922  924  925  926  938  940  949  952  959  962  966  967  978  979\n",
      "  980  982  987  991  994  996  997 1000 1009 1013 1014 1015 1017 1021\n",
      " 1025 1036 1041 1043 1044 1046 1055 1066 1069 1070 1072 1076 1086 1099\n",
      " 1100 1104 1105 1115 1129 1130 1132 1135 1141 1146 1148 1157 1164 1174\n",
      " 1184 1191 1193 1211 1216 1217 1219 1237 1238 1240 1242 1246 1247 1257\n",
      " 1264] are constant.\n",
      "  warnings.warn(\"Features %s are constant.\" % constant_features_idx, UserWarning)\n",
      "/Library/Frameworks/Python.framework/Versions/3.11/lib/python3.11/site-packages/sklearn/feature_selection/_univariate_selection.py:111: RuntimeWarning: invalid value encountered in divide\n",
      "  f = msb / msw\n",
      "/Library/Frameworks/Python.framework/Versions/3.11/lib/python3.11/site-packages/sklearn/metrics/_classification.py:1334: UndefinedMetricWarning: Precision is ill-defined and being set to 0.0 in labels with no predicted samples. Use `zero_division` parameter to control this behavior.\n",
      "  _warn_prf(average, modifier, msg_start, len(result))\n",
      "/Library/Frameworks/Python.framework/Versions/3.11/lib/python3.11/site-packages/sklearn/metrics/_classification.py:1334: UndefinedMetricWarning: Precision and F-score are ill-defined and being set to 0.0 in labels with no predicted samples. Use `zero_division` parameter to control this behavior.\n",
      "  _warn_prf(average, modifier, msg_start, len(result))\n",
      "/Library/Frameworks/Python.framework/Versions/3.11/lib/python3.11/site-packages/sklearn/metrics/_classification.py:1334: UndefinedMetricWarning: Precision and F-score are ill-defined and being set to 0.0 in labels with no predicted samples. Use `zero_division` parameter to control this behavior.\n",
      "  _warn_prf(average, modifier, msg_start, len(result))\n",
      "/Library/Frameworks/Python.framework/Versions/3.11/lib/python3.11/site-packages/sklearn/metrics/_classification.py:1334: UndefinedMetricWarning: Precision and F-score are ill-defined and being set to 0.0 in labels with no predicted samples. Use `zero_division` parameter to control this behavior.\n",
      "  _warn_prf(average, modifier, msg_start, len(result))\n"
     ]
    }
   ],
   "source": [
    "selector = SelectKBest(f_classif, k=15)\n",
    "X_train_new = selector.fit_transform(X_train_scaled,Y_train)\n",
    "X_test_new = selector.transform(X_test)\n",
    "top_features = selector.get_support(indices=True)\n",
    "print(top_features)\n",
    "svc_vec_best.fit(X_train_new,Y_train)\n",
    "y_pred = svc_vec_best.predict(X_test_new)\n",
    "\n",
    "print(\"accuracy:\", accuracy_score(Y_test, y_pred))\n",
    "print(\"F1 score:\", f1_score(Y_test, y_pred,average=\"macro\"))\n",
    "precision = precision_score(Y_test, y_pred, average='macro')\n",
    "recall = recall_score(Y_test, y_pred, average='macro')\n",
    "f1 = f1_score(Y_test, y_pred, average='macro')\n",
    "\n",
    "accuracy = accuracy_score(Y_test, y_pred)\n",
    "print('Accuracy:', accuracy)\n",
    "from sklearn.metrics import classification_report\n",
    "print(classification_report(Y_test,y_pred))"
   ]
  },
  {
   "cell_type": "code",
   "execution_count": 143,
   "id": "cb512d96",
   "metadata": {},
   "outputs": [
    {
     "name": "stdout",
     "output_type": "stream",
     "text": [
      "Top 15 features:\n",
      "absolutely: 0.000\n",
      "accord: 0.000\n",
      "across: 0.000\n",
      "abruptly: 0.000\n",
      "adorable: 0.000\n",
      "ad: 0.000\n",
      "aforementioned: 0.000\n",
      "acknowledge: 0.000\n",
      "actual: 0.000\n",
      "additional: 0.023\n",
      "affordable: 0.170\n",
      "actually: 0.239\n",
      "abc: 0.239\n",
      "add: 0.239\n",
      "acceptable: 1.203\n"
     ]
    },
    {
     "name": "stderr",
     "output_type": "stream",
     "text": [
      "/Library/Frameworks/Python.framework/Versions/3.11/lib/python3.11/site-packages/sklearn/utils/deprecation.py:87: FutureWarning: Function get_feature_names is deprecated; get_feature_names is deprecated in 1.0 and will be removed in 1.2. Please use get_feature_names_out instead.\n",
      "  warnings.warn(msg, category=FutureWarning)\n"
     ]
    },
    {
     "data": {
      "image/png": "[encoded data removed]",
      "text/plain": [
       "<Figure size 1000x800 with 1 Axes>"
      ]
     },
     "metadata": {},
     "output_type": "display_data"
    }
   ],
   "source": [
    "#Feature importance using SVM\n",
    "svm_weights = np.abs(svc_vec_best.coef_[0])\n",
    "top_features = np.argsort(svm_weights)[-15:]\n",
    "print(\"Top 15 features:\")\n",
    "feature_names = tf_idf_vectorizer.get_feature_names()\n",
    "for i in top_features:\n",
    "    print(f\"{feature_names[i]}: {svm_weights[i]:.3f}\")\n",
    "\n",
    "plt.figure(figsize=(10, 8))\n",
    "plt.bar(range(len(top_features)), svm_weights[top_features])\n",
    "plt.xticks(range(len(top_features)), [feature_names[i] for i in top_features], rotation=90)\n",
    "plt.xlabel(\"Features\")\n",
    "plt.ylabel(\"Importance\")\n",
    "plt.title(\"Feature Importance (Top 15)\")\n",
    "plt.show()"
   ]
  },
  {
   "cell_type": "code",
   "execution_count": 144,
   "id": "542a7960",
   "metadata": {},
   "outputs": [
    {
     "name": "stdout",
     "output_type": "stream",
     "text": [
      "              precision    recall  f1-score   support\n",
      "\n",
      "           0       0.39      1.00      0.56         9\n",
      "           1       0.00      0.00      0.00        14\n",
      "\n",
      "    accuracy                           0.39        23\n",
      "   macro avg       0.20      0.50      0.28        23\n",
      "weighted avg       0.15      0.39      0.22        23\n",
      "\n"
     ]
    },
    {
     "name": "stderr",
     "output_type": "stream",
     "text": [
      "/Library/Frameworks/Python.framework/Versions/3.11/lib/python3.11/site-packages/sklearn/metrics/_classification.py:1334: UndefinedMetricWarning: Precision and F-score are ill-defined and being set to 0.0 in labels with no predicted samples. Use `zero_division` parameter to control this behavior.\n",
      "  _warn_prf(average, modifier, msg_start, len(result))\n",
      "/Library/Frameworks/Python.framework/Versions/3.11/lib/python3.11/site-packages/sklearn/metrics/_classification.py:1334: UndefinedMetricWarning: Precision and F-score are ill-defined and being set to 0.0 in labels with no predicted samples. Use `zero_division` parameter to control this behavior.\n",
      "  _warn_prf(average, modifier, msg_start, len(result))\n",
      "/Library/Frameworks/Python.framework/Versions/3.11/lib/python3.11/site-packages/sklearn/metrics/_classification.py:1334: UndefinedMetricWarning: Precision and F-score are ill-defined and being set to 0.0 in labels with no predicted samples. Use `zero_division` parameter to control this behavior.\n",
      "  _warn_prf(average, modifier, msg_start, len(result))\n"
     ]
    }
   ],
   "source": [
    "from sklearn.metrics import classification_report\n",
    "print(classification_report(Y_test,y_pred))"
   ]
  },
  {
   "cell_type": "code",
   "execution_count": 145,
   "id": "9747e944",
   "metadata": {},
   "outputs": [
    {
     "name": "stdout",
     "output_type": "stream",
     "text": [
      "accuracy: 0.391304347826087\n",
      "F1 score: 0.28125\n"
     ]
    }
   ],
   "source": [
    "#Vanilla random forest\n",
    "model = RandomForestClassifier(n_estimators=100, random_state=42)\n",
    "model.fit(X_train_scaled, Y_train)\n",
    "model.predict(X_test_scaled)\n",
    "print(\"accuracy:\", accuracy_score(Y_test, y_pred))\n",
    "print(\"F1 score:\", f1_score(Y_test, y_pred,average=\"macro\"))"
   ]
  },
  {
   "cell_type": "code",
   "execution_count": 183,
   "id": "17161a51",
   "metadata": {},
   "outputs": [
    {
     "name": "stdout",
     "output_type": "stream",
     "text": [
      "Parameter grid:\n",
      "{'bootstrap': [True, False], 'max_depth': [3, 5, 7, 9], 'min_samples_leaf': [10, 20, 30, 50], 'min_samples_split': [15, 20, 30]}\n",
      "Fitting 10 folds for each of 96 candidates, totalling 960 fits\n",
      "Best model: {'bootstrap': False, 'max_depth': 7, 'min_samples_leaf': 10, 'min_samples_split': 15}\n",
      "Best score: 0.698611\n",
      "Best test auc: 0.391304\n",
      "accuracy: 0.391304347826087\n",
      "F1 score: 0.28125\n",
      "Accuracy: 0.391304347826087\n"
     ]
    },
    {
     "name": "stderr",
     "output_type": "stream",
     "text": [
      "/Library/Frameworks/Python.framework/Versions/3.11/lib/python3.11/site-packages/sklearn/metrics/_classification.py:1334: UndefinedMetricWarning: Precision is ill-defined and being set to 0.0 in labels with no predicted samples. Use `zero_division` parameter to control this behavior.\n",
      "  _warn_prf(average, modifier, msg_start, len(result))\n"
     ]
    }
   ],
   "source": [
    "from sklearn.ensemble import RandomForestClassifier\n",
    "\n",
    "param_grid = {\n",
    "    'bootstrap': [True, False],\n",
    "    'max_depth': [3,5,7,9],\n",
    "    'min_samples_leaf': [10, 20, 30, 50],\n",
    "    'min_samples_split': [15, 20, 30]\n",
    "}\n",
    "print(\"Parameter grid:\\n{}\".format(param_grid))\n",
    "random_gs = GridSearchCV(estimator=RandomForestClassifier(), param_grid=param_grid ,\n",
    "        scoring='roc_auc', cv=10, n_jobs=multiprocessing.cpu_count(), verbose=1)\n",
    "\n",
    "random_gs.fit(X_train_scaled, Y_train)\n",
    "\n",
    "random_best = random_gs.best_estimator_\n",
    "random_best.fit(X_train_scaled,Y_train)\n",
    "\n",
    "print('Best model: %s' % str(random_gs.best_params_))\n",
    "print('Best score: %f' % random_gs.best_score_)\n",
    "print('Best test auc: %f' % random_best.score(X_test_scaled,Y_test))\n",
    "\n",
    "y_pred = random_best.predict(X_test_scaled)\n",
    "print(\"accuracy:\", accuracy_score(Y_test, y_pred))\n",
    "print(\"F1 score:\", f1_score(Y_test, y_pred,average=\"macro\"))\n",
    "precision = precision_score(Y_test, y_pred, average='macro')\n",
    "recall = recall_score(Y_test, y_pred, average='macro')\n",
    "f1 = f1_score(Y_test, y_pred, average='macro')\n",
    "\n",
    "accuracy = accuracy_score(Y_test, y_pred)\n",
    "print('Accuracy:', accuracy)"
   ]
  },
  {
   "cell_type": "code",
   "execution_count": 184,
   "id": "f62f076a",
   "metadata": {},
   "outputs": [
    {
     "name": "stdout",
     "output_type": "stream",
     "text": [
      "[ 126  230  285  584  602  835  840  873  875  967 1015 1033 1042 1109\n",
      " 1155]\n",
      "accuracy: 0.391304347826087\n",
      "F1 score: 0.28125\n",
      "Accuracy: 0.391304347826087\n",
      "              precision    recall  f1-score   support\n",
      "\n",
      "           0       0.39      1.00      0.56         9\n",
      "           1       0.00      0.00      0.00        14\n",
      "\n",
      "    accuracy                           0.39        23\n",
      "   macro avg       0.20      0.50      0.28        23\n",
      "weighted avg       0.15      0.39      0.22        23\n",
      "\n"
     ]
    },
    {
     "name": "stderr",
     "output_type": "stream",
     "text": [
      "/Library/Frameworks/Python.framework/Versions/3.11/lib/python3.11/site-packages/sklearn/metrics/_classification.py:1334: UndefinedMetricWarning: Precision is ill-defined and being set to 0.0 in labels with no predicted samples. Use `zero_division` parameter to control this behavior.\n",
      "  _warn_prf(average, modifier, msg_start, len(result))\n",
      "/Library/Frameworks/Python.framework/Versions/3.11/lib/python3.11/site-packages/sklearn/metrics/_classification.py:1334: UndefinedMetricWarning: Precision and F-score are ill-defined and being set to 0.0 in labels with no predicted samples. Use `zero_division` parameter to control this behavior.\n",
      "  _warn_prf(average, modifier, msg_start, len(result))\n",
      "/Library/Frameworks/Python.framework/Versions/3.11/lib/python3.11/site-packages/sklearn/metrics/_classification.py:1334: UndefinedMetricWarning: Precision and F-score are ill-defined and being set to 0.0 in labels with no predicted samples. Use `zero_division` parameter to control this behavior.\n",
      "  _warn_prf(average, modifier, msg_start, len(result))\n",
      "/Library/Frameworks/Python.framework/Versions/3.11/lib/python3.11/site-packages/sklearn/metrics/_classification.py:1334: UndefinedMetricWarning: Precision and F-score are ill-defined and being set to 0.0 in labels with no predicted samples. Use `zero_division` parameter to control this behavior.\n",
      "  _warn_prf(average, modifier, msg_start, len(result))\n"
     ]
    }
   ],
   "source": [
    "selector = SelectKBest(mutual_info_classif, k=15)\n",
    "X_train_new = selector.fit_transform(X_train_scaled,Y_train)\n",
    "X_test_new = selector.transform(X_test)\n",
    "top_features = selector.get_support(indices=True)\n",
    "print(top_features)\n",
    "random_best.fit(X_train_new,Y_train)\n",
    "y_pred = random_best.predict(X_test_new)\n",
    "\n",
    "print(\"accuracy:\", accuracy_score(Y_test, y_pred))\n",
    "print(\"F1 score:\", f1_score(Y_test, y_pred,average=\"macro\"))\n",
    "precision = precision_score(Y_test, y_pred, average='macro')\n",
    "recall = recall_score(Y_test, y_pred, average='macro')\n",
    "f1 = f1_score(Y_test, y_pred, average='macro')\n",
    "\n",
    "accuracy = accuracy_score(Y_test, y_pred)\n",
    "print('Accuracy:', accuracy)\n",
    "from sklearn.metrics import classification_report\n",
    "print(classification_report(Y_test,y_pred))"
   ]
  },
  {
   "cell_type": "code",
   "execution_count": 148,
   "id": "58c39b0d",
   "metadata": {},
   "outputs": [
    {
     "name": "stdout",
     "output_type": "stream",
     "text": [
      "Top 15 features:\n",
      "abc: 0.000\n",
      "abruptly: 0.000\n",
      "acceptable: 0.000\n",
      "accord: 0.000\n",
      "acknowledge: 0.000\n",
      "across: 0.000\n",
      "actual: 0.000\n",
      "actually: 0.000\n",
      "ad: 0.000\n",
      "add: 0.000\n",
      "additional: 0.000\n",
      "aforementioned: 0.000\n",
      "adorable: 0.316\n",
      "absolutely: 0.323\n",
      "affordable: 0.361\n"
     ]
    },
    {
     "name": "stderr",
     "output_type": "stream",
     "text": [
      "/Library/Frameworks/Python.framework/Versions/3.11/lib/python3.11/site-packages/sklearn/utils/deprecation.py:87: FutureWarning: Function get_feature_names is deprecated; get_feature_names is deprecated in 1.0 and will be removed in 1.2. Please use get_feature_names_out instead.\n",
      "  warnings.warn(msg, category=FutureWarning)\n"
     ]
    },
    {
     "data": {
      "image/png": "[encoded data removed]",
      "text/plain": [
       "<Figure size 1000x800 with 1 Axes>"
      ]
     },
     "metadata": {},
     "output_type": "display_data"
    }
   ],
   "source": [
    "#Feature importance for random forest classifier\n",
    "rf_importances = random_best.feature_importances_\n",
    "top_features = np.argsort(rf_importances)[-15:]\n",
    "print(\"Top 15 features:\")\n",
    "feature_names = tf_idf_vectorizer.get_feature_names()\n",
    "for i in top_features:\n",
    "    print(f\"{feature_names[i]}: {rf_importances[i]:.3f}\")\n",
    "\n",
    "# Plot the feature importances for the top 15 features\n",
    "plt.figure(figsize=(10, 8))\n",
    "plt.bar(range(len(top_features)), rf_importances[top_features])\n",
    "plt.xticks(range(len(top_features)), [feature_names[i] for i in top_features], rotation=90)\n",
    "plt.xlabel(\"Features\")\n",
    "plt.ylabel(\"Importance\")\n",
    "plt.title(\"Feature Importance (Top 15)\")\n",
    "plt.show()\n"
   ]
  },
  {
   "cell_type": "code",
   "execution_count": 149,
   "id": "dfdadf41",
   "metadata": {},
   "outputs": [
    {
     "name": "stdout",
     "output_type": "stream",
     "text": [
      "              precision    recall  f1-score   support\n",
      "\n",
      "           0       0.39      1.00      0.56         9\n",
      "           1       0.00      0.00      0.00        14\n",
      "\n",
      "    accuracy                           0.39        23\n",
      "   macro avg       0.20      0.50      0.28        23\n",
      "weighted avg       0.15      0.39      0.22        23\n",
      "\n"
     ]
    },
    {
     "name": "stderr",
     "output_type": "stream",
     "text": [
      "/Library/Frameworks/Python.framework/Versions/3.11/lib/python3.11/site-packages/sklearn/metrics/_classification.py:1334: UndefinedMetricWarning: Precision and F-score are ill-defined and being set to 0.0 in labels with no predicted samples. Use `zero_division` parameter to control this behavior.\n",
      "  _warn_prf(average, modifier, msg_start, len(result))\n",
      "/Library/Frameworks/Python.framework/Versions/3.11/lib/python3.11/site-packages/sklearn/metrics/_classification.py:1334: UndefinedMetricWarning: Precision and F-score are ill-defined and being set to 0.0 in labels with no predicted samples. Use `zero_division` parameter to control this behavior.\n",
      "  _warn_prf(average, modifier, msg_start, len(result))\n",
      "/Library/Frameworks/Python.framework/Versions/3.11/lib/python3.11/site-packages/sklearn/metrics/_classification.py:1334: UndefinedMetricWarning: Precision and F-score are ill-defined and being set to 0.0 in labels with no predicted samples. Use `zero_division` parameter to control this behavior.\n",
      "  _warn_prf(average, modifier, msg_start, len(result))\n"
     ]
    }
   ],
   "source": [
    "from sklearn.metrics import classification_report\n",
    "print(classification_report(Y_test,y_pred))"
   ]
  },
  {
   "cell_type": "code",
   "execution_count": null,
   "id": "1897fd9d",
   "metadata": {},
   "outputs": [],
   "source": []
  },
  {
   "cell_type": "code",
   "execution_count": null,
   "id": "12e656da",
   "metadata": {},
   "outputs": [],
   "source": []
  }
 ],
 "metadata": {
  "kernelspec": {
   "display_name": "Python 3 (ipykernel)",
   "language": "python",
   "name": "python3"
  },
  "language_info": {
   "codemirror_mode": {
    "name": "ipython",
    "version": 3
   },
   "file_extension": ".py",
   "mimetype": "text/x-python",
   "name": "python",
   "nbconvert_exporter": "python",
   "pygments_lexer": "ipython3",
   "version": "3.11.2"
  }
 },
 "nbformat": 4,
 "nbformat_minor": 5
}
