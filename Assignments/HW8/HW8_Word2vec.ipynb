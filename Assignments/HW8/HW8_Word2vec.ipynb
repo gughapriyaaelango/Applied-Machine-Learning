{
 "cells": [
  {
   "cell_type": "code",
   "execution_count": 100,
   "id": "8540bc01",
   "metadata": {
    "scrolled": true
   },
   "outputs": [],
   "source": [
    "#“I certify that this assignment represents my work. I have not used any unauthorized or unacknowledged assistance \n",
    "#or sources in completing it, including free or commercial systems or services offered on the internet.”"
   ]
  },
  {
   "cell_type": "code",
   "execution_count": 101,
   "id": "cac1aa37",
   "metadata": {},
   "outputs": [],
   "source": [
    "import pandas as pd\n",
    "import matplotlib.pyplot as plt\n",
    "from gensim.models.doc2vec import Doc2Vec, TaggedDocument\n",
    "from gensim import models\n",
    "import numpy as np\n",
    "from gensim.models.doc2vec import Doc2Vec, TaggedDocument\n",
    "from sklearn.feature_selection import mutual_info_classif\n",
    "from nltk.corpus import stopwords\n",
    "from nltk.tokenize import RegexpTokenizer, sent_tokenize, word_tokenize\n",
    "from nltk.stem import WordNetLemmatizer\n",
    "from nltk.stem import PorterStemmer\n",
    "from nltk.tokenize import word_tokenize\n",
    "from sklearn.feature_selection import SelectKBest\n",
    "from sklearn.feature_extraction.text import CountVectorizer, TfidfVectorizer\n",
    "from sklearn.model_selection import GridSearchCV, train_test_split\n",
    "from sklearn.metrics import confusion_matrix, precision_score, recall_score, f1_score\n",
    "from sklearn.naive_bayes import MultinomialNB\n",
    "from sklearn.pipeline import Pipeline\n",
    "from sklearn.preprocessing import StandardScaler\n",
    "from sklearn.metrics import accuracy_score\n",
    "from sklearn.metrics import f1_score\n",
    "from sklearn.metrics import roc_auc_score\n",
    "from sklearn.metrics import classification_report, confusion_matrix\n",
    "from sklearn.metrics import roc_curve,roc_auc_score, precision_score, recall_score,f1_score\n",
    "from sklearn.metrics import make_scorer, accuracy_score\n",
    "\n",
    "import multiprocessing\n",
    "import re"
   ]
  },
  {
   "cell_type": "code",
   "execution_count": 102,
   "id": "6350f461",
   "metadata": {},
   "outputs": [
    {
     "data": {
      "text/html": [
       "<div>\n",
       "<style scoped>\n",
       "    .dataframe tbody tr th:only-of-type {\n",
       "        vertical-align: middle;\n",
       "    }\n",
       "\n",
       "    .dataframe tbody tr th {\n",
       "        vertical-align: top;\n",
       "    }\n",
       "\n",
       "    .dataframe thead th {\n",
       "        text-align: right;\n",
       "    }\n",
       "</style>\n",
       "<table border=\"1\" class=\"dataframe\">\n",
       "  <thead>\n",
       "    <tr style=\"text-align: right;\">\n",
       "      <th></th>\n",
       "      <th>lie</th>\n",
       "      <th>sentiment</th>\n",
       "      <th>review</th>\n",
       "    </tr>\n",
       "  </thead>\n",
       "  <tbody>\n",
       "    <tr>\n",
       "      <th>0</th>\n",
       "      <td>fake</td>\n",
       "      <td>negative</td>\n",
       "      <td>'Mike\\'s Pizza High Point, NY Service was very...</td>\n",
       "    </tr>\n",
       "    <tr>\n",
       "      <th>1</th>\n",
       "      <td>fake</td>\n",
       "      <td>negative</td>\n",
       "      <td>'i really like this buffet restaurant in Marsh...</td>\n",
       "    </tr>\n",
       "    <tr>\n",
       "      <th>2</th>\n",
       "      <td>fake</td>\n",
       "      <td>negative</td>\n",
       "      <td>'After I went shopping with some of my friend,...</td>\n",
       "    </tr>\n",
       "    <tr>\n",
       "      <th>3</th>\n",
       "      <td>fake</td>\n",
       "      <td>negative</td>\n",
       "      <td>'Olive Oil Garden was very disappointing. I ex...</td>\n",
       "    </tr>\n",
       "    <tr>\n",
       "      <th>4</th>\n",
       "      <td>fake</td>\n",
       "      <td>negative</td>\n",
       "      <td>'The Seven Heaven restaurant was never known f...</td>\n",
       "    </tr>\n",
       "  </tbody>\n",
       "</table>\n",
       "</div>"
      ],
      "text/plain": [
       "    lie sentiment                                             review\n",
       "0  fake  negative  'Mike\\'s Pizza High Point, NY Service was very...\n",
       "1  fake  negative  'i really like this buffet restaurant in Marsh...\n",
       "2  fake  negative  'After I went shopping with some of my friend,...\n",
       "3  fake  negative  'Olive Oil Garden was very disappointing. I ex...\n",
       "4  fake  negative  'The Seven Heaven restaurant was never known f..."
      ]
     },
     "execution_count": 102,
     "metadata": {},
     "output_type": "execute_result"
    }
   ],
   "source": [
    "import pandas as pd\n",
    "\n",
    "# read data\n",
    "reviews_df = pd.read_csv('deception_data_converted.txt',sep='\\t',encoding='iso-8859-1')\n",
    "reviews_df.head()"
   ]
  },
  {
   "cell_type": "code",
   "execution_count": 103,
   "id": "1c534e51",
   "metadata": {},
   "outputs": [
    {
     "data": {
      "text/plain": [
       "(92, 3)"
      ]
     },
     "execution_count": 103,
     "metadata": {},
     "output_type": "execute_result"
    }
   ],
   "source": [
    "reviews_df.shape"
   ]
  },
  {
   "cell_type": "code",
   "execution_count": 104,
   "id": "01bc767c",
   "metadata": {},
   "outputs": [
    {
     "data": {
      "text/plain": [
       "fake    46\n",
       "true    46\n",
       "Name: lie, dtype: int64"
      ]
     },
     "execution_count": 104,
     "metadata": {},
     "output_type": "execute_result"
    }
   ],
   "source": [
    "reviews_df['lie'].value_counts()"
   ]
  },
  {
   "cell_type": "code",
   "execution_count": 105,
   "id": "69ff9e83",
   "metadata": {},
   "outputs": [
    {
     "data": {
      "text/plain": [
       "negative    46\n",
       "positive    46\n",
       "Name: sentiment, dtype: int64"
      ]
     },
     "execution_count": 105,
     "metadata": {},
     "output_type": "execute_result"
    }
   ],
   "source": [
    "reviews_df['sentiment'].value_counts()"
   ]
  },
  {
   "cell_type": "code",
   "execution_count": 106,
   "id": "4ba3eea0",
   "metadata": {},
   "outputs": [],
   "source": [
    "import arff\n",
    "arff.dump('product_review.arff'\n",
    "       , reviews_df.values\n",
    "       , relation='relation name'\n",
    "       , names=reviews_df.columns)"
   ]
  },
  {
   "cell_type": "code",
   "execution_count": 107,
   "id": "6f20214f",
   "metadata": {},
   "outputs": [],
   "source": [
    "# we don't include stem\n",
    "def text_process(document, rebuild_document=True):\n",
    "    import re\n",
    "    words = []\n",
    "    \n",
    "    for sentence in sent_tokenize(document):\n",
    "        tokens = [wordnet_lemmatizer.lemmatize(t.lower())\n",
    "        for t in regexp_tokenizer.tokenize(sentence) if t.lower() not in stop_words]\n",
    "        words += tokens\n",
    "\n",
    "    if rebuild_document:\n",
    "        #### rebuild the sentence\n",
    "        content = ' '.join(words).strip()\n",
    "\n",
    "        content = content.replace(r\"'\",\" \")\n",
    "        content = re.sub('s\\+', ' ', content)\n",
    "        content = content.strip()\n",
    "        \n",
    "        return content\n",
    "    else:\n",
    "        return words"
   ]
  },
  {
   "cell_type": "code",
   "execution_count": 108,
   "id": "f230ac5d",
   "metadata": {},
   "outputs": [],
   "source": [
    "\n",
    "reviews_categories = {\n",
    "    'true': 0,\n",
    "    'fake': 1}\n",
    "\n",
    "reviews_X = []\n",
    "token_reviews_X = []\n",
    "reviews_Y = []"
   ]
  },
  {
   "cell_type": "code",
   "execution_count": 109,
   "id": "391c61d2",
   "metadata": {},
   "outputs": [],
   "source": [
    "# load stop-words\n",
    "stop_words = set(stopwords.words('english'))\n",
    "\n",
    "# initialize tokenizer\n",
    "regexp_tokenizer = RegexpTokenizer('[\\'a-zA-Z]+')\n",
    "\n",
    "# initialize lemmatizer\n",
    "wordnet_lemmatizer = WordNetLemmatizer()\n",
    "\n",
    "# initialize stemmer\n",
    "porter_stemmer = PorterStemmer()"
   ]
  },
  {
   "cell_type": "code",
   "execution_count": 110,
   "id": "1ee49819",
   "metadata": {},
   "outputs": [],
   "source": [
    "for index, row in reviews_df.iterrows():\n",
    "    category = row.lie\n",
    "    text = row.review\n",
    "\n",
    "    category_idx = reviews_categories[category]\n",
    "\n",
    "    reviews_X.append(text_process(text))\n",
    "    token_reviews_X.append(text_process(text,False))\n",
    "    reviews_Y.append(category_idx)"
   ]
  },
  {
   "cell_type": "code",
   "execution_count": 111,
   "id": "3a590a5b",
   "metadata": {},
   "outputs": [],
   "source": [
    "##LIE DETECTION USING word2vec\n",
    "google_word2vec = models.KeyedVectors.load_word2vec_format('GoogleNews-vectors-negative300.bin', binary=True)"
   ]
  },
  {
   "cell_type": "code",
   "execution_count": 112,
   "id": "616a24e8",
   "metadata": {},
   "outputs": [],
   "source": [
    "from collections import defaultdict\n",
    "import numpy as np\n",
    "\n",
    "dim = 0\n",
    "\n",
    "if len(google_word2vec) > 0:\n",
    "    dim=len(next(iter(google_word2vec)))\n",
    "else:\n",
    "    dim=0\n",
    "\n",
    "word2vec_reviews_X = np.array([\n",
    "    np.mean([google_word2vec[w] for w in words if w in google_word2vec]\n",
    "        or [np.zeros(dim)], axis=0)\n",
    "    for words in token_reviews_X\n",
    "    ])"
   ]
  },
  {
   "cell_type": "code",
   "execution_count": 113,
   "id": "0577c779",
   "metadata": {},
   "outputs": [],
   "source": [
    "X_train, X_test, Y_train, Y_test = train_test_split(word2vec_reviews_X, reviews_Y, test_size=0.25, random_state=1)\n"
   ]
  },
  {
   "cell_type": "code",
   "execution_count": 114,
   "id": "619bdf7a",
   "metadata": {},
   "outputs": [],
   "source": [
    "#Minmax scaler to scale data to 0 to 1 for naive bayes\n",
    "from sklearn.preprocessing import MinMaxScaler\n",
    "scaler = MinMaxScaler().fit(X_train)\n",
    "X_train_scaled = scaler.transform(X_train)\n",
    "X_test_scaled = scaler.transform(X_test)\n"
   ]
  },
  {
   "cell_type": "code",
   "execution_count": 115,
   "id": "bfb3da44",
   "metadata": {},
   "outputs": [],
   "source": [
    "def entropy(y):\n",
    "    _, counts = np.unique(y, return_counts=True)\n",
    "    probs = counts / len(y)\n",
    "    return -np.sum(probs * np.log2(probs))"
   ]
  },
  {
   "cell_type": "code",
   "execution_count": 116,
   "id": "8185cd06",
   "metadata": {},
   "outputs": [
    {
     "name": "stderr",
     "output_type": "stream",
     "text": [
      "/var/folders/t0/mwd450_d17x_24_r5z4fl90m0000gn/T/ipykernel_25859/3696085333.py:7: RuntimeWarning: divide by zero encountered in log2\n",
      "  split_information = -np.sum(X_train_scaled[:,i]/np.sum(X_train_scaled[:,i])*np.log2(X_train_scaled[:,i]/np.sum(X_train_scaled[:,i])))\n",
      "/var/folders/t0/mwd450_d17x_24_r5z4fl90m0000gn/T/ipykernel_25859/3696085333.py:7: RuntimeWarning: invalid value encountered in multiply\n",
      "  split_information = -np.sum(X_train_scaled[:,i]/np.sum(X_train_scaled[:,i])*np.log2(X_train_scaled[:,i]/np.sum(X_train_scaled[:,i])))\n"
     ]
    },
    {
     "name": "stdout",
     "output_type": "stream",
     "text": [
      "Feature 299: Gain ratio = nan\n",
      "Feature 93: Gain ratio = nan\n",
      "Feature 95: Gain ratio = nan\n",
      "Feature 96: Gain ratio = nan\n",
      "Feature 97: Gain ratio = nan\n",
      "Feature 98: Gain ratio = nan\n",
      "Feature 99: Gain ratio = nan\n",
      "Feature 100: Gain ratio = nan\n",
      "Feature 101: Gain ratio = nan\n",
      "Feature 102: Gain ratio = nan\n",
      "Feature 103: Gain ratio = nan\n",
      "Feature 104: Gain ratio = nan\n",
      "Feature 105: Gain ratio = nan\n",
      "Feature 106: Gain ratio = nan\n",
      "Feature 107: Gain ratio = nan\n"
     ]
    },
    {
     "data": {
      "image/png": "[encoded data removed]",
      "text/plain": [
       "<Figure size 640x480 with 1 Axes>"
      ]
     },
     "metadata": {},
     "output_type": "display_data"
    }
   ],
   "source": [
    "#General GainRatio\n",
    "mutual_info = mutual_info_classif(X_train_scaled, Y_train)\n",
    "total_entropy = entropy(Y_train)\n",
    "gain_ratios = []\n",
    "for i in range(X_train_scaled.shape[1]):\n",
    "    feature_entropy = entropy(X_train_scaled[:,i])\n",
    "    split_information = -np.sum(X_train_scaled[:,i]/np.sum(X_train_scaled[:,i])*np.log2(X_train_scaled[:,i]/np.sum(X_train_scaled[:,i])))\n",
    "    gain_ratios.append((mutual_info[i]/feature_entropy)/split_information)\n",
    "\n",
    "# print the gain ratios for top 15 features\n",
    "top_features_idx = np.argsort(gain_ratios)[::-1][:15]\n",
    "for idx in top_features_idx:\n",
    "    print(f\"Feature {idx}: Gain ratio = {gain_ratios[idx]}\")\n",
    "\n",
    "plt.bar(range(len(top_features_idx)), top_features_idx)\n",
    "plt.xticks(range(len(top_features_idx)), top_features_idx, rotation=90)\n",
    "plt.title(\"Feature Importance Scores\")\n",
    "plt.xlabel(\"Features\")\n",
    "plt.ylabel(\"Gain Ratio\")\n",
    "plt.show()"
   ]
  },
  {
   "cell_type": "code",
   "execution_count": 117,
   "id": "8f1acee3",
   "metadata": {},
   "outputs": [
    {
     "name": "stdout",
     "output_type": "stream",
     "text": [
      "accuracy: 0.30434782608695654\n",
      "F1 score: 0.29230769230769227\n"
     ]
    }
   ],
   "source": [
    "#Vanilla Multinomial\n",
    "model = MultinomialNB()\n",
    "model.fit(X_train_scaled, Y_train)\n",
    "y_pred=model.predict(X_test_scaled)\n",
    "print(\"accuracy:\", accuracy_score(Y_test, y_pred))\n",
    "print(\"F1 score:\", f1_score(Y_test, y_pred,average=\"macro\"))\n"
   ]
  },
  {
   "cell_type": "code",
   "execution_count": 118,
   "id": "efea0db6",
   "metadata": {
    "scrolled": true
   },
   "outputs": [
    {
     "name": "stdout",
     "output_type": "stream",
     "text": [
      "Parameter grid:\n",
      "{'alpha': [0.001, 0.002, 0.003, 0.004, 0.005, 0.01, 0.09, 0.05, 0.75, 0.09, 0.1, 0.2, 0.3, 0.4, 0.5, 0.6, 0.7, 0.8, 0.9, 1.0]}\n",
      "Fitting 10 folds for each of 20 candidates, totalling 200 fits\n",
      "Best model: {'alpha': 0.001}\n",
      "Best score: 0.491667\n",
      "Best test auc: 0.304348\n",
      "accuracy: 0.30434782608695654\n",
      "F1 score: 0.29230769230769227\n",
      "Accuracy: 0.30434782608695654\n"
     ]
    }
   ],
   "source": [
    "#Multinomial NB\n",
    "from sklearn.naive_bayes import MultinomialNB\n",
    "\n",
    "param_grid = {'alpha': [0.001, 0.002,0.003,0.004,0.005,0.01, 0.09,0.05, 0.75, 0.09, 0.1, 0.2, 0.3, 0.4, 0.5, 0.6, 0.7, 0.8, 0.9, 1.0]}\n",
    "print(\"Parameter grid:\\n{}\".format(param_grid))\n",
    "\n",
    "mnb_grid_search = GridSearchCV(MultinomialNB(), param_grid=param_grid, cv=10,scoring=\"roc_auc\",n_jobs=multiprocessing.cpu_count(),verbose=1)\n",
    "mnb_grid_search.fit(X_train_scaled, Y_train)\n",
    "\n",
    "mnb_best = mnb_grid_search.best_estimator_\n",
    "mnb_best.fit(X_train_scaled,Y_train)\n",
    "print('Best model: %s' % str(mnb_grid_search.best_params_))\n",
    "print('Best score: %f' % mnb_grid_search.best_score_)\n",
    "print('Best test auc: %f' % mnb_best.score(X_test_scaled,Y_test))\n",
    "\n",
    "y_pred = mnb_best.predict(X_test_scaled)\n",
    "y_prob = mnb_best.predict_proba(X_test_scaled)\n",
    "print(\"accuracy:\", accuracy_score(Y_test, y_pred))\n",
    "print(\"F1 score:\", f1_score(Y_test, y_pred,average=\"macro\"))\n",
    "precision = precision_score(Y_test, y_pred, average='macro')\n",
    "recall = recall_score(Y_test, y_pred, average='macro')\n",
    "f1 = f1_score(Y_test, y_pred, average='macro')\n",
    "\n",
    "accuracy = accuracy_score(Y_test, y_pred)\n",
    "print('Accuracy:', accuracy)\n"
   ]
  },
  {
   "cell_type": "code",
   "execution_count": 119,
   "id": "b0237217",
   "metadata": {},
   "outputs": [
    {
     "name": "stdout",
     "output_type": "stream",
     "text": [
      "[  8  18  21  22  93 115 122 137 155 166 188 196 199 241 274]\n",
      "accuracy: 0.391304347826087\n",
      "F1 score: 0.28125\n",
      "Accuracy: 0.391304347826087\n",
      "              precision    recall  f1-score   support\n",
      "\n",
      "           0       0.00      0.00      0.00        14\n",
      "           1       0.39      1.00      0.56         9\n",
      "\n",
      "    accuracy                           0.39        23\n",
      "   macro avg       0.20      0.50      0.28        23\n",
      "weighted avg       0.15      0.39      0.22        23\n",
      "\n"
     ]
    },
    {
     "name": "stderr",
     "output_type": "stream",
     "text": [
      "/Library/Frameworks/Python.framework/Versions/3.11/lib/python3.11/site-packages/sklearn/metrics/_classification.py:1334: UndefinedMetricWarning: Precision is ill-defined and being set to 0.0 in labels with no predicted samples. Use `zero_division` parameter to control this behavior.\n",
      "  _warn_prf(average, modifier, msg_start, len(result))\n",
      "/Library/Frameworks/Python.framework/Versions/3.11/lib/python3.11/site-packages/sklearn/metrics/_classification.py:1334: UndefinedMetricWarning: Precision and F-score are ill-defined and being set to 0.0 in labels with no predicted samples. Use `zero_division` parameter to control this behavior.\n",
      "  _warn_prf(average, modifier, msg_start, len(result))\n",
      "/Library/Frameworks/Python.framework/Versions/3.11/lib/python3.11/site-packages/sklearn/metrics/_classification.py:1334: UndefinedMetricWarning: Precision and F-score are ill-defined and being set to 0.0 in labels with no predicted samples. Use `zero_division` parameter to control this behavior.\n",
      "  _warn_prf(average, modifier, msg_start, len(result))\n",
      "/Library/Frameworks/Python.framework/Versions/3.11/lib/python3.11/site-packages/sklearn/metrics/_classification.py:1334: UndefinedMetricWarning: Precision and F-score are ill-defined and being set to 0.0 in labels with no predicted samples. Use `zero_division` parameter to control this behavior.\n",
      "  _warn_prf(average, modifier, msg_start, len(result))\n"
     ]
    }
   ],
   "source": [
    "selector = SelectKBest(mutual_info_classif, k=15)\n",
    "\n",
    "X_train_new = selector.fit_transform(X_train_scaled,Y_train)\n",
    "X_test_new = selector.transform(X_test)\n",
    "top_features = selector.get_support(indices=True)\n",
    "print(top_features)\n",
    "mnb_best.fit(X_train_new,Y_train)\n",
    "y_pred = mnb_best.predict(X_test_new)\n",
    "\n",
    "print(\"accuracy:\", accuracy_score(Y_test, y_pred))\n",
    "print(\"F1 score:\", f1_score(Y_test, y_pred,average=\"macro\"))\n",
    "precision = precision_score(Y_test, y_pred, average='macro')\n",
    "recall = recall_score(Y_test, y_pred, average='macro')\n",
    "f1 = f1_score(Y_test, y_pred, average='macro')\n",
    "\n",
    "accuracy = accuracy_score(Y_test, y_pred)\n",
    "print('Accuracy:', accuracy)\n",
    "from sklearn.metrics import classification_report\n",
    "print(classification_report(Y_test,y_pred))"
   ]
  },
  {
   "cell_type": "code",
   "execution_count": 120,
   "id": "7bd584bc",
   "metadata": {
    "scrolled": true
   },
   "outputs": [
    {
     "name": "stdout",
     "output_type": "stream",
     "text": [
      "              precision    recall  f1-score   support\n",
      "\n",
      "           0       0.00      0.00      0.00        14\n",
      "           1       0.39      1.00      0.56         9\n",
      "\n",
      "    accuracy                           0.39        23\n",
      "   macro avg       0.20      0.50      0.28        23\n",
      "weighted avg       0.15      0.39      0.22        23\n",
      "\n"
     ]
    },
    {
     "name": "stderr",
     "output_type": "stream",
     "text": [
      "/Library/Frameworks/Python.framework/Versions/3.11/lib/python3.11/site-packages/sklearn/metrics/_classification.py:1334: UndefinedMetricWarning: Precision and F-score are ill-defined and being set to 0.0 in labels with no predicted samples. Use `zero_division` parameter to control this behavior.\n",
      "  _warn_prf(average, modifier, msg_start, len(result))\n",
      "/Library/Frameworks/Python.framework/Versions/3.11/lib/python3.11/site-packages/sklearn/metrics/_classification.py:1334: UndefinedMetricWarning: Precision and F-score are ill-defined and being set to 0.0 in labels with no predicted samples. Use `zero_division` parameter to control this behavior.\n",
      "  _warn_prf(average, modifier, msg_start, len(result))\n",
      "/Library/Frameworks/Python.framework/Versions/3.11/lib/python3.11/site-packages/sklearn/metrics/_classification.py:1334: UndefinedMetricWarning: Precision and F-score are ill-defined and being set to 0.0 in labels with no predicted samples. Use `zero_division` parameter to control this behavior.\n",
      "  _warn_prf(average, modifier, msg_start, len(result))\n"
     ]
    }
   ],
   "source": [
    "from sklearn.metrics import classification_report\n",
    "print(classification_report(Y_test,y_pred))"
   ]
  },
  {
   "cell_type": "code",
   "execution_count": 121,
   "id": "7617beaf",
   "metadata": {},
   "outputs": [],
   "source": [
    "#standardscaler\n",
    "from sklearn.preprocessing import StandardScaler\n",
    "scaler = StandardScaler().fit(X_train)\n",
    "X_train_scaled = scaler.transform(X_train)\n",
    "X_test_scaled = scaler.transform(X_test)"
   ]
  },
  {
   "cell_type": "code",
   "execution_count": 122,
   "id": "52efbd22",
   "metadata": {},
   "outputs": [
    {
     "name": "stdout",
     "output_type": "stream",
     "text": [
      "accuracy: 0.391304347826087\n",
      "F1 score: 0.28125\n"
     ]
    }
   ],
   "source": [
    "#Vanilla SVC\n",
    "from sklearn.svm import SVC\n",
    "model = SVC(kernel='linear')\n",
    "model.fit(X_train_scaled, Y_train)\n",
    "model.predict(X_test_scaled)\n",
    "print(\"accuracy:\", accuracy_score(Y_test, y_pred))\n",
    "print(\"F1 score:\", f1_score(Y_test, y_pred,average=\"macro\"))"
   ]
  },
  {
   "cell_type": "code",
   "execution_count": 123,
   "id": "cbb8fa2b",
   "metadata": {},
   "outputs": [
    {
     "name": "stdout",
     "output_type": "stream",
     "text": [
      "Parameter grid:\n",
      "{'kernel': ['linear', 'rbf', 'poly'], 'C': [0.1, 1, 2, 3, 4, 5, 10, 20, 30, 40, 50, 60, 70, 100], 'gamma': [0.1, 0.01, 0.001, 1, 10]}\n",
      "Fitting 10 folds for each of 210 candidates, totalling 2100 fits\n",
      "Best model: {'C': 1, 'gamma': 0.001, 'kernel': 'rbf'}\n",
      "Best score: 0.611111\n",
      "Best test auc: 0.391304\n",
      "accuracy: 0.391304347826087\n",
      "F1 score: 0.28125\n",
      "Accuracy: 0.391304347826087\n"
     ]
    },
    {
     "name": "stderr",
     "output_type": "stream",
     "text": [
      "/Library/Frameworks/Python.framework/Versions/3.11/lib/python3.11/site-packages/sklearn/metrics/_classification.py:1334: UndefinedMetricWarning: Precision is ill-defined and being set to 0.0 in labels with no predicted samples. Use `zero_division` parameter to control this behavior.\n",
      "  _warn_prf(average, modifier, msg_start, len(result))\n"
     ]
    }
   ],
   "source": [
    "from sklearn.svm import SVC\n",
    "\n",
    "param_grid = {\n",
    "    'kernel': ['linear','rbf','poly'],\n",
    "    'C': [0.1,1,2,3,4,5,10,20,30,40,50,60,70,100],\n",
    "    'gamma': [0.1, 0.01, 0.001,1,10]\n",
    "}\n",
    "print(\"Parameter grid:\\n{}\".format(param_grid))\n",
    "svc_vec_gs = GridSearchCV(estimator=SVC() , param_grid=param_grid ,\n",
    "        scoring='roc_auc', cv=10, n_jobs=multiprocessing.cpu_count(), verbose=1)\n",
    "\n",
    "svc_vec_gs.fit(X_train_scaled, Y_train)\n",
    "\n",
    "svc_vec_best = svc_vec_gs.best_estimator_\n",
    "svc_vec_best.fit(X_train_scaled,Y_train)\n",
    "\n",
    "print('Best model: %s' % str(svc_vec_gs.best_params_))\n",
    "print('Best score: %f' % svc_vec_gs.best_score_)\n",
    "print('Best test auc: %f' % svc_vec_best.score(X_test_scaled,Y_test))\n",
    "\n",
    "y_pred = svc_vec_best.predict(X_test_scaled)\n",
    "print(\"accuracy:\", accuracy_score(Y_test, y_pred))\n",
    "print(\"F1 score:\", f1_score(Y_test, y_pred,average=\"macro\"))\n",
    "precision = precision_score(Y_test, y_pred, average='macro')\n",
    "recall = recall_score(Y_test, y_pred, average='macro')\n",
    "f1 = f1_score(Y_test, y_pred, average='macro')\n",
    "\n",
    "accuracy = accuracy_score(Y_test, y_pred)\n",
    "print('Accuracy:', accuracy)"
   ]
  },
  {
   "cell_type": "code",
   "execution_count": 124,
   "id": "5755b9cc",
   "metadata": {},
   "outputs": [
    {
     "name": "stdout",
     "output_type": "stream",
     "text": [
      "[  8  18  21  22  93 115 122 137 155 166 188 196 199 241 274]\n",
      "accuracy: 0.391304347826087\n",
      "F1 score: 0.28125\n",
      "Accuracy: 0.391304347826087\n",
      "              precision    recall  f1-score   support\n",
      "\n",
      "           0       0.00      0.00      0.00        14\n",
      "           1       0.39      1.00      0.56         9\n",
      "\n",
      "    accuracy                           0.39        23\n",
      "   macro avg       0.20      0.50      0.28        23\n",
      "weighted avg       0.15      0.39      0.22        23\n",
      "\n"
     ]
    },
    {
     "name": "stderr",
     "output_type": "stream",
     "text": [
      "/Library/Frameworks/Python.framework/Versions/3.11/lib/python3.11/site-packages/sklearn/metrics/_classification.py:1334: UndefinedMetricWarning: Precision is ill-defined and being set to 0.0 in labels with no predicted samples. Use `zero_division` parameter to control this behavior.\n",
      "  _warn_prf(average, modifier, msg_start, len(result))\n",
      "/Library/Frameworks/Python.framework/Versions/3.11/lib/python3.11/site-packages/sklearn/metrics/_classification.py:1334: UndefinedMetricWarning: Precision and F-score are ill-defined and being set to 0.0 in labels with no predicted samples. Use `zero_division` parameter to control this behavior.\n",
      "  _warn_prf(average, modifier, msg_start, len(result))\n",
      "/Library/Frameworks/Python.framework/Versions/3.11/lib/python3.11/site-packages/sklearn/metrics/_classification.py:1334: UndefinedMetricWarning: Precision and F-score are ill-defined and being set to 0.0 in labels with no predicted samples. Use `zero_division` parameter to control this behavior.\n",
      "  _warn_prf(average, modifier, msg_start, len(result))\n",
      "/Library/Frameworks/Python.framework/Versions/3.11/lib/python3.11/site-packages/sklearn/metrics/_classification.py:1334: UndefinedMetricWarning: Precision and F-score are ill-defined and being set to 0.0 in labels with no predicted samples. Use `zero_division` parameter to control this behavior.\n",
      "  _warn_prf(average, modifier, msg_start, len(result))\n"
     ]
    }
   ],
   "source": [
    "selector = SelectKBest(mutual_info_classif, k=15)\n",
    "X_train_new = selector.fit_transform(X_train_scaled,Y_train)\n",
    "X_test_new = selector.transform(X_test)\n",
    "top_features = selector.get_support(indices=True)\n",
    "print(top_features)\n",
    "svc_vec_best.fit(X_train_new,Y_train)\n",
    "y_pred = svc_vec_best.predict(X_test_new)\n",
    "\n",
    "print(\"accuracy:\", accuracy_score(Y_test, y_pred))\n",
    "print(\"F1 score:\", f1_score(Y_test, y_pred,average=\"macro\"))\n",
    "precision = precision_score(Y_test, y_pred, average='macro')\n",
    "recall = recall_score(Y_test, y_pred, average='macro')\n",
    "f1 = f1_score(Y_test, y_pred, average='macro')\n",
    "\n",
    "accuracy = accuracy_score(Y_test, y_pred)\n",
    "print('Accuracy:', accuracy)\n",
    "from sklearn.metrics import classification_report\n",
    "print(classification_report(Y_test,y_pred))"
   ]
  },
  {
   "cell_type": "code",
   "execution_count": null,
   "id": "137249f9",
   "metadata": {},
   "outputs": [],
   "source": []
  },
  {
   "cell_type": "code",
   "execution_count": 125,
   "id": "45220152",
   "metadata": {},
   "outputs": [
    {
     "name": "stdout",
     "output_type": "stream",
     "text": [
      "              precision    recall  f1-score   support\n",
      "\n",
      "           0       0.00      0.00      0.00        14\n",
      "           1       0.39      1.00      0.56         9\n",
      "\n",
      "    accuracy                           0.39        23\n",
      "   macro avg       0.20      0.50      0.28        23\n",
      "weighted avg       0.15      0.39      0.22        23\n",
      "\n"
     ]
    },
    {
     "name": "stderr",
     "output_type": "stream",
     "text": [
      "/Library/Frameworks/Python.framework/Versions/3.11/lib/python3.11/site-packages/sklearn/metrics/_classification.py:1334: UndefinedMetricWarning: Precision and F-score are ill-defined and being set to 0.0 in labels with no predicted samples. Use `zero_division` parameter to control this behavior.\n",
      "  _warn_prf(average, modifier, msg_start, len(result))\n",
      "/Library/Frameworks/Python.framework/Versions/3.11/lib/python3.11/site-packages/sklearn/metrics/_classification.py:1334: UndefinedMetricWarning: Precision and F-score are ill-defined and being set to 0.0 in labels with no predicted samples. Use `zero_division` parameter to control this behavior.\n",
      "  _warn_prf(average, modifier, msg_start, len(result))\n",
      "/Library/Frameworks/Python.framework/Versions/3.11/lib/python3.11/site-packages/sklearn/metrics/_classification.py:1334: UndefinedMetricWarning: Precision and F-score are ill-defined and being set to 0.0 in labels with no predicted samples. Use `zero_division` parameter to control this behavior.\n",
      "  _warn_prf(average, modifier, msg_start, len(result))\n"
     ]
    }
   ],
   "source": [
    "from sklearn.metrics import classification_report\n",
    "print(classification_report(Y_test,y_pred))"
   ]
  },
  {
   "cell_type": "code",
   "execution_count": 126,
   "id": "9a22f3eb",
   "metadata": {},
   "outputs": [
    {
     "name": "stdout",
     "output_type": "stream",
     "text": [
      "accuracy: 0.391304347826087\n",
      "F1 score: 0.28125\n"
     ]
    }
   ],
   "source": [
    "#Vanilla random forest\n",
    "from sklearn.ensemble import RandomForestClassifier\n",
    "model = RandomForestClassifier(n_estimators=100, random_state=42)\n",
    "model.fit(X_train_scaled, Y_train)\n",
    "model.predict(X_test_scaled)\n",
    "print(\"accuracy:\", accuracy_score(Y_test, y_pred))\n",
    "print(\"F1 score:\", f1_score(Y_test, y_pred,average=\"macro\"))"
   ]
  },
  {
   "cell_type": "code",
   "execution_count": 127,
   "id": "34a57b76",
   "metadata": {},
   "outputs": [
    {
     "name": "stdout",
     "output_type": "stream",
     "text": [
      "Parameter grid:\n",
      "{'bootstrap': [True, False], 'max_depth': [3, 5, 7, 9], 'min_samples_leaf': [10, 20, 30, 50], 'min_samples_split': [15, 20, 30]}\n",
      "Fitting 10 folds for each of 96 candidates, totalling 960 fits\n",
      "Best model: {'bootstrap': False, 'max_depth': 9, 'min_samples_leaf': 10, 'min_samples_split': 30}\n",
      "Best score: 0.722222\n",
      "Best test auc: 0.347826\n",
      "accuracy: 0.34782608695652173\n",
      "F1 score: 0.34285714285714286\n",
      "Accuracy: 0.34782608695652173\n"
     ]
    }
   ],
   "source": [
    "from sklearn.ensemble import RandomForestClassifier\n",
    "\n",
    "param_grid = {\n",
    "    'bootstrap': [True, False],\n",
    "    'max_depth': [3,5,7,9],\n",
    "    'min_samples_leaf': [10, 20, 30, 50],\n",
    "    'min_samples_split': [15, 20, 30]\n",
    "}\n",
    "print(\"Parameter grid:\\n{}\".format(param_grid))\n",
    "random_gs = GridSearchCV(estimator=RandomForestClassifier(), param_grid=param_grid ,\n",
    "        scoring='roc_auc', cv=10, n_jobs=multiprocessing.cpu_count(), verbose=1)\n",
    "\n",
    "random_gs.fit(X_train_scaled, Y_train)\n",
    "\n",
    "random_best = random_gs.best_estimator_\n",
    "random_best.fit(X_train_scaled,Y_train)\n",
    "\n",
    "print('Best model: %s' % str(random_gs.best_params_))\n",
    "print('Best score: %f' % random_gs.best_score_)\n",
    "print('Best test auc: %f' % random_best.score(X_test_scaled,Y_test))\n",
    "\n",
    "y_pred = random_best.predict(X_test_scaled)\n",
    "print(\"accuracy:\", accuracy_score(Y_test, y_pred))\n",
    "print(\"F1 score:\", f1_score(Y_test, y_pred,average=\"macro\"))\n",
    "precision = precision_score(Y_test, y_pred, average='macro')\n",
    "recall = recall_score(Y_test, y_pred, average='macro')\n",
    "f1 = f1_score(Y_test, y_pred, average='macro')\n",
    "\n",
    "accuracy = accuracy_score(Y_test, y_pred)\n",
    "print('Accuracy:', accuracy)"
   ]
  },
  {
   "cell_type": "code",
   "execution_count": 128,
   "id": "5ecb3f98",
   "metadata": {},
   "outputs": [
    {
     "name": "stdout",
     "output_type": "stream",
     "text": [
      "[  8  18  21  22  93 115 122 137 155 166 188 196 199 241 274]\n",
      "accuracy: 0.391304347826087\n",
      "F1 score: 0.28125\n",
      "Accuracy: 0.391304347826087\n",
      "              precision    recall  f1-score   support\n",
      "\n",
      "           0       0.00      0.00      0.00        14\n",
      "           1       0.39      1.00      0.56         9\n",
      "\n",
      "    accuracy                           0.39        23\n",
      "   macro avg       0.20      0.50      0.28        23\n",
      "weighted avg       0.15      0.39      0.22        23\n",
      "\n"
     ]
    },
    {
     "name": "stderr",
     "output_type": "stream",
     "text": [
      "/Library/Frameworks/Python.framework/Versions/3.11/lib/python3.11/site-packages/sklearn/metrics/_classification.py:1334: UndefinedMetricWarning: Precision is ill-defined and being set to 0.0 in labels with no predicted samples. Use `zero_division` parameter to control this behavior.\n",
      "  _warn_prf(average, modifier, msg_start, len(result))\n",
      "/Library/Frameworks/Python.framework/Versions/3.11/lib/python3.11/site-packages/sklearn/metrics/_classification.py:1334: UndefinedMetricWarning: Precision and F-score are ill-defined and being set to 0.0 in labels with no predicted samples. Use `zero_division` parameter to control this behavior.\n",
      "  _warn_prf(average, modifier, msg_start, len(result))\n",
      "/Library/Frameworks/Python.framework/Versions/3.11/lib/python3.11/site-packages/sklearn/metrics/_classification.py:1334: UndefinedMetricWarning: Precision and F-score are ill-defined and being set to 0.0 in labels with no predicted samples. Use `zero_division` parameter to control this behavior.\n",
      "  _warn_prf(average, modifier, msg_start, len(result))\n",
      "/Library/Frameworks/Python.framework/Versions/3.11/lib/python3.11/site-packages/sklearn/metrics/_classification.py:1334: UndefinedMetricWarning: Precision and F-score are ill-defined and being set to 0.0 in labels with no predicted samples. Use `zero_division` parameter to control this behavior.\n",
      "  _warn_prf(average, modifier, msg_start, len(result))\n"
     ]
    }
   ],
   "source": [
    "selector = SelectKBest(mutual_info_classif, k=15)\n",
    "X_train_new = selector.fit_transform(X_train_scaled,Y_train)\n",
    "X_test_new = selector.transform(X_test)\n",
    "top_features = selector.get_support(indices=True)\n",
    "print(top_features)\n",
    "random_best.fit(X_train_new,Y_train)\n",
    "y_pred = random_best.predict(X_test_new)\n",
    "\n",
    "print(\"accuracy:\", accuracy_score(Y_test, y_pred))\n",
    "print(\"F1 score:\", f1_score(Y_test, y_pred,average=\"macro\"))\n",
    "precision = precision_score(Y_test, y_pred, average='macro')\n",
    "recall = recall_score(Y_test, y_pred, average='macro')\n",
    "f1 = f1_score(Y_test, y_pred, average='macro')\n",
    "\n",
    "accuracy = accuracy_score(Y_test, y_pred)\n",
    "print('Accuracy:', accuracy)\n",
    "from sklearn.metrics import classification_report\n",
    "print(classification_report(Y_test,y_pred))"
   ]
  },
  {
   "cell_type": "code",
   "execution_count": 129,
   "id": "42e42c07",
   "metadata": {},
   "outputs": [
    {
     "name": "stdout",
     "output_type": "stream",
     "text": [
      "              precision    recall  f1-score   support\n",
      "\n",
      "           0       0.00      0.00      0.00        14\n",
      "           1       0.39      1.00      0.56         9\n",
      "\n",
      "    accuracy                           0.39        23\n",
      "   macro avg       0.20      0.50      0.28        23\n",
      "weighted avg       0.15      0.39      0.22        23\n",
      "\n"
     ]
    },
    {
     "name": "stderr",
     "output_type": "stream",
     "text": [
      "/Library/Frameworks/Python.framework/Versions/3.11/lib/python3.11/site-packages/sklearn/metrics/_classification.py:1334: UndefinedMetricWarning: Precision and F-score are ill-defined and being set to 0.0 in labels with no predicted samples. Use `zero_division` parameter to control this behavior.\n",
      "  _warn_prf(average, modifier, msg_start, len(result))\n",
      "/Library/Frameworks/Python.framework/Versions/3.11/lib/python3.11/site-packages/sklearn/metrics/_classification.py:1334: UndefinedMetricWarning: Precision and F-score are ill-defined and being set to 0.0 in labels with no predicted samples. Use `zero_division` parameter to control this behavior.\n",
      "  _warn_prf(average, modifier, msg_start, len(result))\n",
      "/Library/Frameworks/Python.framework/Versions/3.11/lib/python3.11/site-packages/sklearn/metrics/_classification.py:1334: UndefinedMetricWarning: Precision and F-score are ill-defined and being set to 0.0 in labels with no predicted samples. Use `zero_division` parameter to control this behavior.\n",
      "  _warn_prf(average, modifier, msg_start, len(result))\n"
     ]
    }
   ],
   "source": [
    "from sklearn.metrics import classification_report\n",
    "print(classification_report(Y_test,y_pred))"
   ]
  },
  {
   "cell_type": "code",
   "execution_count": 150,
   "id": "dbf1fddc",
   "metadata": {},
   "outputs": [],
   "source": [
    "##SENTIMENT DETECTION USING word2vec_VECTORIZER\n",
    "reviews_categories = {\n",
    "    'negative': 0,\n",
    "    'positive': 1}\n",
    "\n",
    "reviews_X = []\n",
    "token_reviews_X = []\n",
    "reviews_Y = []"
   ]
  },
  {
   "cell_type": "code",
   "execution_count": 151,
   "id": "540cf42a",
   "metadata": {},
   "outputs": [],
   "source": [
    "# load stop-words\n",
    "stop_words = set(stopwords.words('english'))\n",
    "\n",
    "# initialize tokenizer\n",
    "regexp_tokenizer = RegexpTokenizer('[\\'a-zA-Z]+')\n",
    "\n",
    "# initialize lemmatizer\n",
    "wordnet_lemmatizer = WordNetLemmatizer()\n",
    "\n",
    "# initialize stemmer\n",
    "porter_stemmer = PorterStemmer()"
   ]
  },
  {
   "cell_type": "code",
   "execution_count": 152,
   "id": "bad96a2c",
   "metadata": {},
   "outputs": [],
   "source": [
    "for index, row in reviews_df.iterrows():\n",
    "    category = row.sentiment\n",
    "    text = row.review\n",
    "\n",
    "    category_idx = reviews_categories[category]\n",
    "\n",
    "    reviews_X.append(text_process(text))\n",
    "    token_reviews_X.append(text_process(text,False))\n",
    "    reviews_Y.append(category_idx)"
   ]
  },
  {
   "cell_type": "code",
   "execution_count": 153,
   "id": "9d639d01",
   "metadata": {},
   "outputs": [],
   "source": [
    "###SENTIMENT DETECTION USING WORD2VEC\n",
    "google_word2vec = models.KeyedVectors.load_word2vec_format('GoogleNews-vectors-negative300.bin', binary=True)"
   ]
  },
  {
   "cell_type": "code",
   "execution_count": 154,
   "id": "43ce9a7f",
   "metadata": {},
   "outputs": [],
   "source": [
    "from collections import defaultdict\n",
    "import numpy as np\n",
    "\n",
    "dim = 0\n",
    "\n",
    "if len(google_word2vec) > 0:\n",
    "    dim=len(next(iter(google_word2vec)))\n",
    "else:\n",
    "    dim=0\n",
    "\n",
    "word2vec_reviews_X = np.array([\n",
    "    np.mean([google_word2vec[w] for w in words if w in google_word2vec]\n",
    "        or [np.zeros(dim)], axis=0)\n",
    "    for words in token_reviews_X\n",
    "    ])"
   ]
  },
  {
   "cell_type": "code",
   "execution_count": 155,
   "id": "a9d63f95",
   "metadata": {},
   "outputs": [],
   "source": [
    "X_train, X_test, Y_train, Y_test = train_test_split(word2vec_reviews_X, reviews_Y, test_size=0.25, random_state=1)\n"
   ]
  },
  {
   "cell_type": "code",
   "execution_count": 156,
   "id": "db447863",
   "metadata": {},
   "outputs": [],
   "source": [
    "#Minmax scaler to scale data to 0 to 1 for naive bayes\n",
    "from sklearn.preprocessing import MinMaxScaler\n",
    "scaler = MinMaxScaler().fit(X_train)\n",
    "X_train_scaled = scaler.transform(X_train)\n",
    "X_test_scaled = scaler.transform(X_test)\n"
   ]
  },
  {
   "cell_type": "code",
   "execution_count": 157,
   "id": "8999c8ef",
   "metadata": {},
   "outputs": [
    {
     "name": "stdout",
     "output_type": "stream",
     "text": [
      "accuracy: 0.391304347826087\n",
      "F1 score: 0.28125\n"
     ]
    }
   ],
   "source": [
    "#Vanilla Multinomial\n",
    "model = MultinomialNB()\n",
    "model.fit(X_train_scaled, Y_train)\n",
    "model.predict(X_test_scaled)\n",
    "print(\"accuracy:\", accuracy_score(Y_test, y_pred))\n",
    "print(\"F1 score:\", f1_score(Y_test, y_pred,average=\"macro\"))\n"
   ]
  },
  {
   "cell_type": "code",
   "execution_count": 158,
   "id": "2fa383f7",
   "metadata": {},
   "outputs": [
    {
     "name": "stdout",
     "output_type": "stream",
     "text": [
      "Parameter grid:\n",
      "{'alpha': [0.001, 0.01, 0.1, 0.2, 0.3, 0.4, 0.5, 0.6, 0.7, 0.8, 0.9, 1.0]}\n",
      "Fitting 10 folds for each of 12 candidates, totalling 120 fits\n",
      "Best model: {'alpha': 0.001}\n",
      "Best score: 0.888889\n",
      "Best test auc: 1.000000\n",
      "accuracy: 1.0\n",
      "F1 score: 1.0\n",
      "Accuracy: 1.0\n"
     ]
    }
   ],
   "source": [
    "#Multinomial NB\n",
    "from sklearn.naive_bayes import MultinomialNB\n",
    "\n",
    "param_grid = {'alpha': [0.001, 0.01, 0.1, 0.2, 0.3, 0.4, 0.5, 0.6, 0.7, 0.8, 0.9, 1.0]}\n",
    "print(\"Parameter grid:\\n{}\".format(param_grid))\n",
    "\n",
    "mnb_grid_search = GridSearchCV(MultinomialNB(), param_grid=param_grid, cv=10,scoring=\"roc_auc\",n_jobs=multiprocessing.cpu_count(),verbose=1)\n",
    "mnb_grid_search.fit(X_train_scaled, Y_train)\n",
    "\n",
    "mnb_best = mnb_grid_search.best_estimator_\n",
    "mnb_best.fit(X_train_scaled,Y_train)\n",
    "print('Best model: %s' % str(mnb_grid_search.best_params_))\n",
    "print('Best score: %f' % mnb_grid_search.best_score_)\n",
    "print('Best test auc: %f' % mnb_best.score(X_test_scaled,Y_test))\n",
    "\n",
    "y_pred = mnb_best.predict(X_test_scaled)\n",
    "y_prob = mnb_best.predict_proba(X_test_scaled)\n",
    "print(\"accuracy:\", accuracy_score(Y_test, y_pred))\n",
    "print(\"F1 score:\", f1_score(Y_test, y_pred,average=\"macro\"))\n",
    "precision = precision_score(Y_test, y_pred, average='macro')\n",
    "recall = recall_score(Y_test, y_pred, average='macro')\n",
    "f1 = f1_score(Y_test, y_pred, average='macro')\n",
    "\n",
    "accuracy = accuracy_score(Y_test, y_pred)\n",
    "print('Accuracy:', accuracy)\n"
   ]
  },
  {
   "cell_type": "code",
   "execution_count": 160,
   "id": "6b5b59c8",
   "metadata": {},
   "outputs": [
    {
     "name": "stdout",
     "output_type": "stream",
     "text": [
      "[ 38  42  46  50  51 105 119 120 146 163 168 193 224 230 236]\n",
      "accuracy: 0.6086956521739131\n",
      "F1 score: 0.3783783783783784\n",
      "Accuracy: 0.6086956521739131\n",
      "              precision    recall  f1-score   support\n",
      "\n",
      "           0       0.00      0.00      0.00         9\n",
      "           1       0.61      1.00      0.76        14\n",
      "\n",
      "    accuracy                           0.61        23\n",
      "   macro avg       0.30      0.50      0.38        23\n",
      "weighted avg       0.37      0.61      0.46        23\n",
      "\n"
     ]
    },
    {
     "name": "stderr",
     "output_type": "stream",
     "text": [
      "/Library/Frameworks/Python.framework/Versions/3.11/lib/python3.11/site-packages/sklearn/metrics/_classification.py:1334: UndefinedMetricWarning: Precision is ill-defined and being set to 0.0 in labels with no predicted samples. Use `zero_division` parameter to control this behavior.\n",
      "  _warn_prf(average, modifier, msg_start, len(result))\n",
      "/Library/Frameworks/Python.framework/Versions/3.11/lib/python3.11/site-packages/sklearn/metrics/_classification.py:1334: UndefinedMetricWarning: Precision and F-score are ill-defined and being set to 0.0 in labels with no predicted samples. Use `zero_division` parameter to control this behavior.\n",
      "  _warn_prf(average, modifier, msg_start, len(result))\n",
      "/Library/Frameworks/Python.framework/Versions/3.11/lib/python3.11/site-packages/sklearn/metrics/_classification.py:1334: UndefinedMetricWarning: Precision and F-score are ill-defined and being set to 0.0 in labels with no predicted samples. Use `zero_division` parameter to control this behavior.\n",
      "  _warn_prf(average, modifier, msg_start, len(result))\n",
      "/Library/Frameworks/Python.framework/Versions/3.11/lib/python3.11/site-packages/sklearn/metrics/_classification.py:1334: UndefinedMetricWarning: Precision and F-score are ill-defined and being set to 0.0 in labels with no predicted samples. Use `zero_division` parameter to control this behavior.\n",
      "  _warn_prf(average, modifier, msg_start, len(result))\n"
     ]
    }
   ],
   "source": [
    "from sklearn.feature_selection import SelectKBest, chi2,f_classif,mutual_info_classif\n",
    "selector = SelectKBest(f_classif, k=15)\n",
    "X_train_new = selector.fit_transform(X_train_scaled,Y_train)\n",
    "X_test_new = selector.transform(X_test)\n",
    "top_features = selector.get_support(indices=True)\n",
    "print(top_features)\n",
    "random_best.fit(X_train_new,Y_train)\n",
    "y_pred = random_best.predict(X_test_new)\n",
    "\n",
    "print(\"accuracy:\", accuracy_score(Y_test, y_pred))\n",
    "print(\"F1 score:\", f1_score(Y_test, y_pred,average=\"macro\"))\n",
    "precision = precision_score(Y_test, y_pred, average='macro')\n",
    "recall = recall_score(Y_test, y_pred, average='macro')\n",
    "f1 = f1_score(Y_test, y_pred, average='macro')\n",
    "\n",
    "accuracy = accuracy_score(Y_test, y_pred)\n",
    "print('Accuracy:', accuracy)\n",
    "from sklearn.metrics import classification_report\n",
    "print(classification_report(Y_test,y_pred))"
   ]
  },
  {
   "cell_type": "code",
   "execution_count": 140,
   "id": "fb3a0912",
   "metadata": {},
   "outputs": [
    {
     "name": "stdout",
     "output_type": "stream",
     "text": [
      "              precision    recall  f1-score   support\n",
      "\n",
      "           0       0.00      0.00      0.00         9\n",
      "           1       0.61      1.00      0.76        14\n",
      "\n",
      "    accuracy                           0.61        23\n",
      "   macro avg       0.30      0.50      0.38        23\n",
      "weighted avg       0.37      0.61      0.46        23\n",
      "\n"
     ]
    },
    {
     "name": "stderr",
     "output_type": "stream",
     "text": [
      "/Library/Frameworks/Python.framework/Versions/3.11/lib/python3.11/site-packages/sklearn/metrics/_classification.py:1334: UndefinedMetricWarning: Precision and F-score are ill-defined and being set to 0.0 in labels with no predicted samples. Use `zero_division` parameter to control this behavior.\n",
      "  _warn_prf(average, modifier, msg_start, len(result))\n",
      "/Library/Frameworks/Python.framework/Versions/3.11/lib/python3.11/site-packages/sklearn/metrics/_classification.py:1334: UndefinedMetricWarning: Precision and F-score are ill-defined and being set to 0.0 in labels with no predicted samples. Use `zero_division` parameter to control this behavior.\n",
      "  _warn_prf(average, modifier, msg_start, len(result))\n",
      "/Library/Frameworks/Python.framework/Versions/3.11/lib/python3.11/site-packages/sklearn/metrics/_classification.py:1334: UndefinedMetricWarning: Precision and F-score are ill-defined and being set to 0.0 in labels with no predicted samples. Use `zero_division` parameter to control this behavior.\n",
      "  _warn_prf(average, modifier, msg_start, len(result))\n"
     ]
    }
   ],
   "source": [
    "from sklearn.metrics import classification_report\n",
    "print(classification_report(Y_test,y_pred))"
   ]
  },
  {
   "cell_type": "code",
   "execution_count": 141,
   "id": "c4914e8b",
   "metadata": {},
   "outputs": [],
   "source": [
    "from sklearn.preprocessing import StandardScaler\n",
    "scaler = StandardScaler().fit(X_train)\n",
    "X_train_scaled = scaler.transform(X_train)\n",
    "X_test_scaled = scaler.transform(X_test)"
   ]
  },
  {
   "cell_type": "code",
   "execution_count": 142,
   "id": "109b8bfa",
   "metadata": {},
   "outputs": [
    {
     "name": "stdout",
     "output_type": "stream",
     "text": [
      "accuracy: 0.6086956521739131\n",
      "F1 score: 0.3783783783783784\n"
     ]
    }
   ],
   "source": [
    "#Vanilla SVC\n",
    "model = SVC(kernel='linear')\n",
    "model.fit(X_train_scaled, Y_train)\n",
    "model.predict(X_test_scaled)\n",
    "print(\"accuracy:\", accuracy_score(Y_test, y_pred))\n",
    "print(\"F1 score:\", f1_score(Y_test, y_pred,average=\"macro\"))"
   ]
  },
  {
   "cell_type": "code",
   "execution_count": 161,
   "id": "dd8f6b6c",
   "metadata": {},
   "outputs": [
    {
     "name": "stdout",
     "output_type": "stream",
     "text": [
      "Parameter grid:\n",
      "{'kernel': ['linear', 'rbf'], 'C': [1, 10, 20, 50, 100], 'gamma': [0.1, 0.01, 0.001]}\n",
      "Fitting 10 folds for each of 30 candidates, totalling 300 fits\n",
      "Best model: {'C': 1, 'gamma': 0.1, 'kernel': 'linear'}\n",
      "Best score: 0.933333\n",
      "Best test auc: 0.956522\n",
      "accuracy: 0.9565217391304348\n",
      "F1 score: 0.9551656920077973\n",
      "Accuracy: 0.9565217391304348\n"
     ]
    }
   ],
   "source": [
    "from sklearn.svm import SVC\n",
    "\n",
    "param_grid = {\n",
    "    'kernel': ['linear','rbf'],\n",
    "    'C': [1,10,20,50,100],\n",
    "    'gamma': [0.1, 0.01, 0.001]\n",
    "}\n",
    "print(\"Parameter grid:\\n{}\".format(param_grid))\n",
    "svc_vec_gs = GridSearchCV(estimator=SVC() , param_grid=param_grid ,\n",
    "        scoring='roc_auc', cv=10, n_jobs=multiprocessing.cpu_count(), verbose=1)\n",
    "\n",
    "svc_vec_gs.fit(X_train_scaled, Y_train)\n",
    "\n",
    "svc_vec_best = svc_vec_gs.best_estimator_\n",
    "svc_vec_best.fit(X_train_scaled,Y_train)\n",
    "\n",
    "print('Best model: %s' % str(svc_vec_gs.best_params_))\n",
    "print('Best score: %f' % svc_vec_gs.best_score_)\n",
    "print('Best test auc: %f' % svc_vec_best.score(X_test_scaled,Y_test))\n",
    "\n",
    "y_pred = svc_vec_best.predict(X_test_scaled)\n",
    "print(\"accuracy:\", accuracy_score(Y_test, y_pred))\n",
    "print(\"F1 score:\", f1_score(Y_test, y_pred,average=\"macro\"))\n",
    "precision = precision_score(Y_test, y_pred, average='macro')\n",
    "recall = recall_score(Y_test, y_pred, average='macro')\n",
    "f1 = f1_score(Y_test, y_pred, average='macro')\n",
    "\n",
    "accuracy = accuracy_score(Y_test, y_pred)\n",
    "print('Accuracy:', accuracy)"
   ]
  },
  {
   "cell_type": "code",
   "execution_count": 164,
   "id": "cb512d96",
   "metadata": {},
   "outputs": [
    {
     "name": "stdout",
     "output_type": "stream",
     "text": [
      "[ 29  42  45  51  73  78  90 105 120 124 169 183 188 224 230]\n",
      "accuracy: 0.391304347826087\n",
      "F1 score: 0.28125\n",
      "Accuracy: 0.391304347826087\n",
      "              precision    recall  f1-score   support\n",
      "\n",
      "           0       0.39      1.00      0.56         9\n",
      "           1       0.00      0.00      0.00        14\n",
      "\n",
      "    accuracy                           0.39        23\n",
      "   macro avg       0.20      0.50      0.28        23\n",
      "weighted avg       0.15      0.39      0.22        23\n",
      "\n"
     ]
    },
    {
     "name": "stderr",
     "output_type": "stream",
     "text": [
      "/Library/Frameworks/Python.framework/Versions/3.11/lib/python3.11/site-packages/sklearn/metrics/_classification.py:1334: UndefinedMetricWarning: Precision is ill-defined and being set to 0.0 in labels with no predicted samples. Use `zero_division` parameter to control this behavior.\n",
      "  _warn_prf(average, modifier, msg_start, len(result))\n",
      "/Library/Frameworks/Python.framework/Versions/3.11/lib/python3.11/site-packages/sklearn/metrics/_classification.py:1334: UndefinedMetricWarning: Precision and F-score are ill-defined and being set to 0.0 in labels with no predicted samples. Use `zero_division` parameter to control this behavior.\n",
      "  _warn_prf(average, modifier, msg_start, len(result))\n",
      "/Library/Frameworks/Python.framework/Versions/3.11/lib/python3.11/site-packages/sklearn/metrics/_classification.py:1334: UndefinedMetricWarning: Precision and F-score are ill-defined and being set to 0.0 in labels with no predicted samples. Use `zero_division` parameter to control this behavior.\n",
      "  _warn_prf(average, modifier, msg_start, len(result))\n",
      "/Library/Frameworks/Python.framework/Versions/3.11/lib/python3.11/site-packages/sklearn/metrics/_classification.py:1334: UndefinedMetricWarning: Precision and F-score are ill-defined and being set to 0.0 in labels with no predicted samples. Use `zero_division` parameter to control this behavior.\n",
      "  _warn_prf(average, modifier, msg_start, len(result))\n"
     ]
    }
   ],
   "source": [
    "selector = SelectKBest(mutual_info_classif, k=15)\n",
    "X_train_new = selector.fit_transform(X_train_scaled,Y_train)\n",
    "X_test_new = selector.transform(X_test)\n",
    "top_features = selector.get_support(indices=True)\n",
    "print(top_features)\n",
    "svc_vec_best.fit(X_train_new,Y_train)\n",
    "y_pred = svc_vec_best.predict(X_test_new)\n",
    "\n",
    "print(\"accuracy:\", accuracy_score(Y_test, y_pred))\n",
    "print(\"F1 score:\", f1_score(Y_test, y_pred,average=\"macro\"))\n",
    "precision = precision_score(Y_test, y_pred, average='macro')\n",
    "recall = recall_score(Y_test, y_pred, average='macro')\n",
    "f1 = f1_score(Y_test, y_pred, average='macro')\n",
    "\n",
    "accuracy = accuracy_score(Y_test, y_pred)\n",
    "print('Accuracy:', accuracy)\n",
    "from sklearn.metrics import classification_report\n",
    "print(classification_report(Y_test,y_pred))"
   ]
  },
  {
   "cell_type": "code",
   "execution_count": 145,
   "id": "542a7960",
   "metadata": {},
   "outputs": [
    {
     "name": "stdout",
     "output_type": "stream",
     "text": [
      "              precision    recall  f1-score   support\n",
      "\n",
      "           0       0.39      1.00      0.56         9\n",
      "           1       0.00      0.00      0.00        14\n",
      "\n",
      "    accuracy                           0.39        23\n",
      "   macro avg       0.20      0.50      0.28        23\n",
      "weighted avg       0.15      0.39      0.22        23\n",
      "\n"
     ]
    },
    {
     "name": "stderr",
     "output_type": "stream",
     "text": [
      "/Library/Frameworks/Python.framework/Versions/3.11/lib/python3.11/site-packages/sklearn/metrics/_classification.py:1334: UndefinedMetricWarning: Precision and F-score are ill-defined and being set to 0.0 in labels with no predicted samples. Use `zero_division` parameter to control this behavior.\n",
      "  _warn_prf(average, modifier, msg_start, len(result))\n",
      "/Library/Frameworks/Python.framework/Versions/3.11/lib/python3.11/site-packages/sklearn/metrics/_classification.py:1334: UndefinedMetricWarning: Precision and F-score are ill-defined and being set to 0.0 in labels with no predicted samples. Use `zero_division` parameter to control this behavior.\n",
      "  _warn_prf(average, modifier, msg_start, len(result))\n",
      "/Library/Frameworks/Python.framework/Versions/3.11/lib/python3.11/site-packages/sklearn/metrics/_classification.py:1334: UndefinedMetricWarning: Precision and F-score are ill-defined and being set to 0.0 in labels with no predicted samples. Use `zero_division` parameter to control this behavior.\n",
      "  _warn_prf(average, modifier, msg_start, len(result))\n"
     ]
    }
   ],
   "source": [
    "from sklearn.metrics import classification_report\n",
    "print(classification_report(Y_test,y_pred))"
   ]
  },
  {
   "cell_type": "code",
   "execution_count": 146,
   "id": "9747e944",
   "metadata": {},
   "outputs": [
    {
     "name": "stdout",
     "output_type": "stream",
     "text": [
      "accuracy: 0.391304347826087\n",
      "F1 score: 0.28125\n"
     ]
    }
   ],
   "source": [
    "#Vanilla random forest\n",
    "model = RandomForestClassifier(n_estimators=100, random_state=42)\n",
    "model.fit(X_train_scaled, Y_train)\n",
    "model.predict(X_test_scaled)\n",
    "print(\"accuracy:\", accuracy_score(Y_test, y_pred))\n",
    "print(\"F1 score:\", f1_score(Y_test, y_pred,average=\"macro\"))"
   ]
  },
  {
   "cell_type": "code",
   "execution_count": 165,
   "id": "17161a51",
   "metadata": {},
   "outputs": [
    {
     "name": "stdout",
     "output_type": "stream",
     "text": [
      "Parameter grid:\n",
      "{'bootstrap': [True, False], 'max_depth': [3, 5, 7, 9], 'min_samples_leaf': [10, 20, 30, 50], 'min_samples_split': [15, 20, 30]}\n",
      "Fitting 10 folds for each of 96 candidates, totalling 960 fits\n",
      "Best model: {'bootstrap': True, 'max_depth': 7, 'min_samples_leaf': 10, 'min_samples_split': 15}\n",
      "Best score: 0.933333\n",
      "Best test auc: 0.869565\n",
      "accuracy: 0.8695652173913043\n",
      "F1 score: 0.8654970760233919\n",
      "Accuracy: 0.8695652173913043\n"
     ]
    }
   ],
   "source": [
    "from sklearn.ensemble import RandomForestClassifier\n",
    "\n",
    "param_grid = {\n",
    "    'bootstrap': [True, False],\n",
    "    'max_depth': [3,5,7,9],\n",
    "    'min_samples_leaf': [10, 20, 30, 50],\n",
    "    'min_samples_split': [15, 20, 30]\n",
    "}\n",
    "print(\"Parameter grid:\\n{}\".format(param_grid))\n",
    "random_gs = GridSearchCV(estimator=RandomForestClassifier(), param_grid=param_grid ,\n",
    "        scoring='roc_auc', cv=10, n_jobs=multiprocessing.cpu_count(), verbose=1)\n",
    "\n",
    "random_gs.fit(X_train_scaled, Y_train)\n",
    "\n",
    "random_best = random_gs.best_estimator_\n",
    "random_best.fit(X_train_scaled,Y_train)\n",
    "\n",
    "print('Best model: %s' % str(random_gs.best_params_))\n",
    "print('Best score: %f' % random_gs.best_score_)\n",
    "print('Best test auc: %f' % random_best.score(X_test_scaled,Y_test))\n",
    "\n",
    "y_pred = random_best.predict(X_test_scaled)\n",
    "print(\"accuracy:\", accuracy_score(Y_test, y_pred))\n",
    "print(\"F1 score:\", f1_score(Y_test, y_pred,average=\"macro\"))\n",
    "precision = precision_score(Y_test, y_pred, average='macro')\n",
    "recall = recall_score(Y_test, y_pred, average='macro')\n",
    "f1 = f1_score(Y_test, y_pred, average='macro')\n",
    "\n",
    "accuracy = accuracy_score(Y_test, y_pred)\n",
    "print('Accuracy:', accuracy)"
   ]
  },
  {
   "cell_type": "code",
   "execution_count": 166,
   "id": "58c39b0d",
   "metadata": {},
   "outputs": [
    {
     "name": "stdout",
     "output_type": "stream",
     "text": [
      "[ 29  42  45  51  73  78  90 105 120 124 169 183 188 224 230]\n",
      "accuracy: 0.391304347826087\n",
      "F1 score: 0.28125\n",
      "Accuracy: 0.391304347826087\n",
      "              precision    recall  f1-score   support\n",
      "\n",
      "           0       0.39      1.00      0.56         9\n",
      "           1       0.00      0.00      0.00        14\n",
      "\n",
      "    accuracy                           0.39        23\n",
      "   macro avg       0.20      0.50      0.28        23\n",
      "weighted avg       0.15      0.39      0.22        23\n",
      "\n"
     ]
    },
    {
     "name": "stderr",
     "output_type": "stream",
     "text": [
      "/Library/Frameworks/Python.framework/Versions/3.11/lib/python3.11/site-packages/sklearn/metrics/_classification.py:1334: UndefinedMetricWarning: Precision is ill-defined and being set to 0.0 in labels with no predicted samples. Use `zero_division` parameter to control this behavior.\n",
      "  _warn_prf(average, modifier, msg_start, len(result))\n",
      "/Library/Frameworks/Python.framework/Versions/3.11/lib/python3.11/site-packages/sklearn/metrics/_classification.py:1334: UndefinedMetricWarning: Precision and F-score are ill-defined and being set to 0.0 in labels with no predicted samples. Use `zero_division` parameter to control this behavior.\n",
      "  _warn_prf(average, modifier, msg_start, len(result))\n",
      "/Library/Frameworks/Python.framework/Versions/3.11/lib/python3.11/site-packages/sklearn/metrics/_classification.py:1334: UndefinedMetricWarning: Precision and F-score are ill-defined and being set to 0.0 in labels with no predicted samples. Use `zero_division` parameter to control this behavior.\n",
      "  _warn_prf(average, modifier, msg_start, len(result))\n",
      "/Library/Frameworks/Python.framework/Versions/3.11/lib/python3.11/site-packages/sklearn/metrics/_classification.py:1334: UndefinedMetricWarning: Precision and F-score are ill-defined and being set to 0.0 in labels with no predicted samples. Use `zero_division` parameter to control this behavior.\n",
      "  _warn_prf(average, modifier, msg_start, len(result))\n"
     ]
    }
   ],
   "source": [
    "selector = SelectKBest(mutual_info_classif, k=15)\n",
    "X_train_new = selector.fit_transform(X_train_scaled,Y_train)\n",
    "X_test_new = selector.transform(X_test)\n",
    "top_features = selector.get_support(indices=True)\n",
    "print(top_features)\n",
    "random_best.fit(X_train_new,Y_train)\n",
    "y_pred = random_best.predict(X_test_new)\n",
    "\n",
    "print(\"accuracy:\", accuracy_score(Y_test, y_pred))\n",
    "print(\"F1 score:\", f1_score(Y_test, y_pred,average=\"macro\"))\n",
    "precision = precision_score(Y_test, y_pred, average='macro')\n",
    "recall = recall_score(Y_test, y_pred, average='macro')\n",
    "f1 = f1_score(Y_test, y_pred, average='macro')\n",
    "\n",
    "accuracy = accuracy_score(Y_test, y_pred)\n",
    "print('Accuracy:', accuracy)\n",
    "from sklearn.metrics import classification_report\n",
    "print(classification_report(Y_test,y_pred))"
   ]
  },
  {
   "cell_type": "code",
   "execution_count": 149,
   "id": "dfdadf41",
   "metadata": {},
   "outputs": [
    {
     "name": "stdout",
     "output_type": "stream",
     "text": [
      "              precision    recall  f1-score   support\n",
      "\n",
      "           0       0.39      1.00      0.56         9\n",
      "           1       0.00      0.00      0.00        14\n",
      "\n",
      "    accuracy                           0.39        23\n",
      "   macro avg       0.20      0.50      0.28        23\n",
      "weighted avg       0.15      0.39      0.22        23\n",
      "\n"
     ]
    },
    {
     "name": "stderr",
     "output_type": "stream",
     "text": [
      "/Library/Frameworks/Python.framework/Versions/3.11/lib/python3.11/site-packages/sklearn/metrics/_classification.py:1334: UndefinedMetricWarning: Precision and F-score are ill-defined and being set to 0.0 in labels with no predicted samples. Use `zero_division` parameter to control this behavior.\n",
      "  _warn_prf(average, modifier, msg_start, len(result))\n",
      "/Library/Frameworks/Python.framework/Versions/3.11/lib/python3.11/site-packages/sklearn/metrics/_classification.py:1334: UndefinedMetricWarning: Precision and F-score are ill-defined and being set to 0.0 in labels with no predicted samples. Use `zero_division` parameter to control this behavior.\n",
      "  _warn_prf(average, modifier, msg_start, len(result))\n",
      "/Library/Frameworks/Python.framework/Versions/3.11/lib/python3.11/site-packages/sklearn/metrics/_classification.py:1334: UndefinedMetricWarning: Precision and F-score are ill-defined and being set to 0.0 in labels with no predicted samples. Use `zero_division` parameter to control this behavior.\n",
      "  _warn_prf(average, modifier, msg_start, len(result))\n"
     ]
    }
   ],
   "source": [
    "from sklearn.metrics import classification_report\n",
    "print(classification_report(Y_test,y_pred))"
   ]
  },
  {
   "cell_type": "code",
   "execution_count": null,
   "id": "1897fd9d",
   "metadata": {},
   "outputs": [],
   "source": []
  },
  {
   "cell_type": "code",
   "execution_count": null,
   "id": "12e656da",
   "metadata": {},
   "outputs": [],
   "source": []
  }
 ],
 "metadata": {
  "kernelspec": {
   "display_name": "Python 3 (ipykernel)",
   "language": "python",
   "name": "python3"
  },
  "language_info": {
   "codemirror_mode": {
    "name": "ipython",
    "version": 3
   },
   "file_extension": ".py",
   "mimetype": "text/x-python",
   "name": "python",
   "nbconvert_exporter": "python",
   "pygments_lexer": "ipython3",
   "version": "3.11.2"
  }
 },
 "nbformat": 4,
 "nbformat_minor": 5
}
